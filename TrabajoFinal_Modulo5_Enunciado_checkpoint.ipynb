{
  "cells": [
    {
      "cell_type": "markdown",
      "source": [
        "CURSO CONVIÉRTETE EN DATA SCIENCE  \n",
        "\n",
        "**Autora**: Lola Gómez Jemes  \n",
        "\n",
        "**Fecha**: 23/06/2022\n"
      ],
      "metadata": {
        "id": "1hib-e_2ft8q"
      }
    },
    {
      "cell_type": "markdown",
      "metadata": {
        "id": "YMSzZvIGuSML"
      },
      "source": [
        "<div style=\"width: 100%; clear: both;\">\n",
        "<div style=\"float: left; width: 50%;\">\n",
        "<img src=\"data:image/png;base64,iVBORw0KGgoAAAANSUhEUgAAAHcAAABECAMAAACMCVq7AAAAt1BMVEX///8vikECczUAAAAqiD1Wm2KxsbEAby38/PwAcTEAayMmhzoehTSCsorExMTv7++dnZzd3d0Ugi4AZBBmZmbS0tI/Pz6oqKhcXVyUlJTu9O89kE24uLjk5OQfIB4aGxdJSUhGk1TF2cgWezkAfybZ5tt3rICrxLAAfBx8fHtRUVAmJyWFhYUTFBBwonyfu6U1gU1rpXWWvZ16pIWmx6snekGzz7hll3FZkmhDhlaLr5M0NTNwcXC4oPrKAAAEc0lEQVRYhe1Ya5eaSBBtKWTIyDRgeImAOD6iIjs7xjW7wf//u7aaRwPiTs4a6A85qXM8QnVTt2/V7S6RkIdsKY8Km/zxWIDH7HU6quzZF4g7ruiOVs9v4mA3a05X+vSnONwGXUn6vBEFu6mrK0nS0zdRuO+TBl1JEqUsf92ki7iClLVt0xWlLH/apitKWS9am64gZfkcdiJVJkJZpwp3cvr6VOEKUBYX1drfPJe4ApR15nRfCPnrkzBlzasjcopQb8+ilHWpNtHkHe/8z6KUxemu88x+48r6Migs7/fyuLgXpCzeAKevhUMSoize7+Vl6RGjrA5dMcri/V6ec58IZfF+P71wnwBl1dUdNbzDn1m832vnhvc7V9ZAv+Drnzea2nQPrSzeALVTy//3sMqqf95obV4DK+vUbIAtG/TMUjnd9W0Z34ZUVt3vt7dDQypLHTX7/Y0NeGa1+/2N1cr6p2/cUbvf39hgZ9Ztv7+x71Win772i9ttgC1rKEu9N/6odfv9ZTseL5fL8fvpwlI70JnF6a4rui+anNtkoq1375cvgyirpsv7/Qt/bWBuTebvaH0qi/d7jff7Fm5hq77PrMb7PVfNHdzq7b83Zd3r93dxc8q9KatugNOaCuIyWd2h3JuyXu71++1OnuM+Gk2nWht81Zey6vf7Zr/fbHxG3vc35/GuBb3q6cz6735fmXperhvIq36UxenuPmiur/P6T55RL8o6/5BuNY9TlntQljqaFAeifKfft8yfl0enLO9+Xlmvy3FpH9Nltq2mjk8/nPvbftsvYZb9wEM0+D9TwiDsDM/g2ri7zroBVFvv+DJoH73G3u1O4ZcKKLejNrSQIOvi6tCJSZw2rgqw6E75CJfQ1h04RKWYeBvd1FQVQye6C0eqklAxqoJQwzww3NB1y0xQMABHQ0psg5ZTYmCpMtgUhhtSvQhNTOYz8RYDVDERV4cDITHGhTgDAOJCBGAaeFmueo9XCY5T5jILV6rDkcW/FrPYV5ISkuB3que4LgQkBI+QI/oOWF6KHzRa4+Ig47PA/FpIwwVcXxgQfZEUlXFUPQHMLa4v8fI0p1fiZAw31m10U/yEEfINTPQZJS7F0BYbU/Uwx8WYeZAOLuoFV1lURzesKGJFZS7MBwa4ukpcLkVBt1nMxBAsaFFf+3jARDRxr5CnNp+CMdOohetxXFpEc8FxnRz3yJ7IcZ04PliEFKkDFKiCGVIxxJ7FZrgx7I0bXA/0CteAg5JERLdxIMYH42KfNHHVBNN4yHEVtgMwqMkqWliUURqkGcc12A7I2NJcrCnDDfL6mog7K3YHw2VAi4gtLmNOgL2zQNy0zLMN2Ux3UsOCHFcHOHqA4xZcFYvmaWYruEIYlLg4ZXZASWKt3QgHA6yiDQmmxcof3xe6AnA9QL77NGKb2c5SI3BU4mHJlRgzZizANjOYuV6+ae0Yjm6sEnWWQH7YuWwSCeKAxqiUGM8h6sDMwMdnqUM9g6gHLP4xdewrLtC0IHHzZxiQ4f0LFvdfhpEo1r0AAAAASUVORK5CYII=\" align=\"left\">\n",
        "</div>\n",
        "<div style=\"float: right; width: 50%;\">\n",
        "</div>\n",
        "</div>\n",
        "<div style=\"width:100%;\">&nbsp;</div>\n",
        "\n",
        "#  \n",
        "\n",
        "# Trabajo final: Práctica de análisis médico de tumores\n",
        "\n",
        "En este trabajo vas a aprender diferentes técnicas de ciencia de datos para analizar un caso práctico de análisis médico de tumores. \n",
        "\n",
        "El conjunto de datos sobre el que partimos contiene casos de un estudio que se realizó en los Hospitales de la Universidad de Wisconsin, Madison, sobre pacientes que se habían sometido a una cirugía por cáncer de mama. La tarea consiste en determinar si el tumor detectado es benigno o maligno. \n",
        "\n",
        "Aplicando los conocimientos aprendidos en este curso, con este trabajo te familiarizarás con:\n",
        "\n",
        " <ol start=\"1\">\n",
        "  <li>La carga de conjuntos de datos</li>\n",
        "  <li>El análisis de los datos:\n",
        "  <br>2.1 Análisis estadístico básico\n",
        "  <br>2.2 Análisis exploratorio de los datos\n",
        "  <li>La reducción de dimensionalidad</li>\n",
        "  <li>El uso de árboles CART</li>\n",
        "</ol>\n",
        "   \n",
        "Para ello vas a necesitar las siguientes librerías:"
      ]
    },
    {
      "cell_type": "code",
      "execution_count": null,
      "metadata": {
        "id": "fB4YQPhYuSMT"
      },
      "outputs": [],
      "source": [
        "from sklearn import datasets\n",
        "from sklearn.decomposition import PCA\n",
        "from sklearn.preprocessing import StandardScaler\n",
        "from sklearn.manifold import TSNE\n",
        "from sklearn.model_selection import train_test_split\n",
        "from sklearn.tree import DecisionTreeClassifier\n",
        "from sklearn.metrics import accuracy_score\n",
        "\n",
        "#Evaluación modelos\n",
        "from sklearn import metrics\n",
        "from sklearn.metrics import confusion_matrix\n",
        "from sklearn.metrics import roc_curve, auc\n",
        "from sklearn.metrics import roc_auc_score\n",
        "\n",
        "import numpy as np\n",
        "import matplotlib.pyplot as plt\n",
        "%matplotlib inline\n",
        "import pandas as pd\n",
        "pd.set_option('display.max_columns', None)\n",
        "import seaborn as sns\n",
        "from sklearn.metrics import classification_report\n",
        "import random\n",
        "random.seed(8)\n",
        "np.random.seed(8)"
      ]
    },
    {
      "cell_type": "markdown",
      "metadata": {
        "id": "UeV7MtXYuSMW"
      },
      "source": [
        "# 1. Carga del conjunto de datos (1 punto)\n",
        "\n",
        "En primer lugar, debes cargar el conjunto de datos Breast Cancer Wisconsin (más información en https://archive.ics.uci.edu/ml/datasets/Breast+Cancer+Wisconsin+(Diagnostic)). Éste se puede descargar de Internet o puede ser cargado directamente de la librería \"scikit-learn\", que incorpora un conjunto de datasets muy conocidos y empleados para minería de datos y machine learning (http://scikit-learn.org/stable/datasets/index.html)."
      ]
    },
    {
      "cell_type": "markdown",
      "metadata": {
        "id": "bqY-PfjduSMX"
      },
      "source": [
        "<div style=\"background-color: #EDF7FF; border-color: #7C9DBF; border-left: 5px solid #7C9DBF; padding: 0.5em;\">\n",
        "<strong>Implementación:</strong> Carga el conjunto de datos \"Breast Cancer Wisconsin\" y muestra el número y nombre de los atributos (variables que podrían ser usadas para predecir la respuesta \"Diagnosis\"), así como el número de filas obtenidas.\n",
        "<hr>\n",
        "Sugerencia: usa sklearn (sklearn.datasets.load_breast_cancer) y explora las diferentes keys del objeto obtenido.\n",
        "</div>"
      ]
    },
    {
      "cell_type": "markdown",
      "source": [
        "Vamos a comenzar cargando el dataset. Para ello, vamos a utilizar la librería de scikit learn"
      ],
      "metadata": {
        "id": "AfuzLbCIPyhA"
      }
    },
    {
      "cell_type": "code",
      "execution_count": null,
      "metadata": {
        "id": "p7znMZYzuSMX"
      },
      "outputs": [],
      "source": [
        "from sklearn.datasets import load_breast_cancer\n",
        "import pandas as pd\n",
        "\n",
        "d = load_breast_cancer()"
      ]
    },
    {
      "cell_type": "code",
      "source": [
        "d.keys()"
      ],
      "metadata": {
        "colab": {
          "base_uri": "https://localhost:8080/"
        },
        "id": "gmVC3oeG3i8L",
        "outputId": "30970715-3d44-4cf7-f6f4-82b53cc3c6e7"
      },
      "execution_count": null,
      "outputs": [
        {
          "output_type": "execute_result",
          "data": {
            "text/plain": [
              "dict_keys(['data', 'target', 'frame', 'target_names', 'DESCR', 'feature_names', 'filename', 'data_module'])"
            ]
          },
          "metadata": {},
          "execution_count": 5
        }
      ]
    },
    {
      "cell_type": "code",
      "source": [
        "d.data.shape"
      ],
      "metadata": {
        "colab": {
          "base_uri": "https://localhost:8080/"
        },
        "id": "6OBbGLkpHJhj",
        "outputId": "78e89c19-1a50-409f-bdbe-f74924efd5f6"
      },
      "execution_count": null,
      "outputs": [
        {
          "output_type": "execute_result",
          "data": {
            "text/plain": [
              "(569, 30)"
            ]
          },
          "metadata": {},
          "execution_count": 6
        }
      ]
    },
    {
      "cell_type": "markdown",
      "source": [
        "El dataset está compuesto de 569 instancias (filas) y 30 atributos (columnas). El nombre de las variables se muestra a continuación:"
      ],
      "metadata": {
        "id": "vDPL3h751MTG"
      }
    },
    {
      "cell_type": "code",
      "source": [
        "d.feature_names"
      ],
      "metadata": {
        "colab": {
          "base_uri": "https://localhost:8080/"
        },
        "id": "-Q4dsHNm0s3r",
        "outputId": "52e5c228-af39-43e2-9995-19522be4cb01"
      },
      "execution_count": null,
      "outputs": [
        {
          "output_type": "execute_result",
          "data": {
            "text/plain": [
              "array(['mean radius', 'mean texture', 'mean perimeter', 'mean area',\n",
              "       'mean smoothness', 'mean compactness', 'mean concavity',\n",
              "       'mean concave points', 'mean symmetry', 'mean fractal dimension',\n",
              "       'radius error', 'texture error', 'perimeter error', 'area error',\n",
              "       'smoothness error', 'compactness error', 'concavity error',\n",
              "       'concave points error', 'symmetry error',\n",
              "       'fractal dimension error', 'worst radius', 'worst texture',\n",
              "       'worst perimeter', 'worst area', 'worst smoothness',\n",
              "       'worst compactness', 'worst concavity', 'worst concave points',\n",
              "       'worst symmetry', 'worst fractal dimension'], dtype='<U23')"
            ]
          },
          "metadata": {},
          "execution_count": 7
        }
      ]
    },
    {
      "cell_type": "markdown",
      "source": [
        "Vamos a guardar los datos en un dataframe, para facilitar el acceso a los datos."
      ],
      "metadata": {
        "id": "wALua2fOQMeZ"
      }
    },
    {
      "cell_type": "code",
      "source": [
        "data = pd.DataFrame(d['data'], columns=d['feature_names'])"
      ],
      "metadata": {
        "id": "KyFHwXbU4Eet"
      },
      "execution_count": null,
      "outputs": []
    },
    {
      "cell_type": "code",
      "source": [
        "data"
      ],
      "metadata": {
        "colab": {
          "base_uri": "https://localhost:8080/",
          "height": 522
        },
        "id": "vWrhXaOF4GS2",
        "outputId": "da952fd5-8d2e-481b-f455-99e7ec9a3e5d"
      },
      "execution_count": null,
      "outputs": [
        {
          "output_type": "execute_result",
          "data": {
            "text/plain": [
              "     mean radius  mean texture  mean perimeter  mean area  mean smoothness  \\\n",
              "0          17.99         10.38          122.80     1001.0          0.11840   \n",
              "1          20.57         17.77          132.90     1326.0          0.08474   \n",
              "2          19.69         21.25          130.00     1203.0          0.10960   \n",
              "3          11.42         20.38           77.58      386.1          0.14250   \n",
              "4          20.29         14.34          135.10     1297.0          0.10030   \n",
              "..           ...           ...             ...        ...              ...   \n",
              "564        21.56         22.39          142.00     1479.0          0.11100   \n",
              "565        20.13         28.25          131.20     1261.0          0.09780   \n",
              "566        16.60         28.08          108.30      858.1          0.08455   \n",
              "567        20.60         29.33          140.10     1265.0          0.11780   \n",
              "568         7.76         24.54           47.92      181.0          0.05263   \n",
              "\n",
              "     mean compactness  mean concavity  mean concave points  mean symmetry  \\\n",
              "0             0.27760         0.30010              0.14710         0.2419   \n",
              "1             0.07864         0.08690              0.07017         0.1812   \n",
              "2             0.15990         0.19740              0.12790         0.2069   \n",
              "3             0.28390         0.24140              0.10520         0.2597   \n",
              "4             0.13280         0.19800              0.10430         0.1809   \n",
              "..                ...             ...                  ...            ...   \n",
              "564           0.11590         0.24390              0.13890         0.1726   \n",
              "565           0.10340         0.14400              0.09791         0.1752   \n",
              "566           0.10230         0.09251              0.05302         0.1590   \n",
              "567           0.27700         0.35140              0.15200         0.2397   \n",
              "568           0.04362         0.00000              0.00000         0.1587   \n",
              "\n",
              "     mean fractal dimension  radius error  texture error  perimeter error  \\\n",
              "0                   0.07871        1.0950         0.9053            8.589   \n",
              "1                   0.05667        0.5435         0.7339            3.398   \n",
              "2                   0.05999        0.7456         0.7869            4.585   \n",
              "3                   0.09744        0.4956         1.1560            3.445   \n",
              "4                   0.05883        0.7572         0.7813            5.438   \n",
              "..                      ...           ...            ...              ...   \n",
              "564                 0.05623        1.1760         1.2560            7.673   \n",
              "565                 0.05533        0.7655         2.4630            5.203   \n",
              "566                 0.05648        0.4564         1.0750            3.425   \n",
              "567                 0.07016        0.7260         1.5950            5.772   \n",
              "568                 0.05884        0.3857         1.4280            2.548   \n",
              "\n",
              "     area error  smoothness error  compactness error  concavity error  \\\n",
              "0        153.40          0.006399            0.04904          0.05373   \n",
              "1         74.08          0.005225            0.01308          0.01860   \n",
              "2         94.03          0.006150            0.04006          0.03832   \n",
              "3         27.23          0.009110            0.07458          0.05661   \n",
              "4         94.44          0.011490            0.02461          0.05688   \n",
              "..          ...               ...                ...              ...   \n",
              "564      158.70          0.010300            0.02891          0.05198   \n",
              "565       99.04          0.005769            0.02423          0.03950   \n",
              "566       48.55          0.005903            0.03731          0.04730   \n",
              "567       86.22          0.006522            0.06158          0.07117   \n",
              "568       19.15          0.007189            0.00466          0.00000   \n",
              "\n",
              "     concave points error  symmetry error  fractal dimension error  \\\n",
              "0                 0.01587         0.03003                 0.006193   \n",
              "1                 0.01340         0.01389                 0.003532   \n",
              "2                 0.02058         0.02250                 0.004571   \n",
              "3                 0.01867         0.05963                 0.009208   \n",
              "4                 0.01885         0.01756                 0.005115   \n",
              "..                    ...             ...                      ...   \n",
              "564               0.02454         0.01114                 0.004239   \n",
              "565               0.01678         0.01898                 0.002498   \n",
              "566               0.01557         0.01318                 0.003892   \n",
              "567               0.01664         0.02324                 0.006185   \n",
              "568               0.00000         0.02676                 0.002783   \n",
              "\n",
              "     worst radius  worst texture  worst perimeter  worst area  \\\n",
              "0          25.380          17.33           184.60      2019.0   \n",
              "1          24.990          23.41           158.80      1956.0   \n",
              "2          23.570          25.53           152.50      1709.0   \n",
              "3          14.910          26.50            98.87       567.7   \n",
              "4          22.540          16.67           152.20      1575.0   \n",
              "..            ...            ...              ...         ...   \n",
              "564        25.450          26.40           166.10      2027.0   \n",
              "565        23.690          38.25           155.00      1731.0   \n",
              "566        18.980          34.12           126.70      1124.0   \n",
              "567        25.740          39.42           184.60      1821.0   \n",
              "568         9.456          30.37            59.16       268.6   \n",
              "\n",
              "     worst smoothness  worst compactness  worst concavity  \\\n",
              "0             0.16220            0.66560           0.7119   \n",
              "1             0.12380            0.18660           0.2416   \n",
              "2             0.14440            0.42450           0.4504   \n",
              "3             0.20980            0.86630           0.6869   \n",
              "4             0.13740            0.20500           0.4000   \n",
              "..                ...                ...              ...   \n",
              "564           0.14100            0.21130           0.4107   \n",
              "565           0.11660            0.19220           0.3215   \n",
              "566           0.11390            0.30940           0.3403   \n",
              "567           0.16500            0.86810           0.9387   \n",
              "568           0.08996            0.06444           0.0000   \n",
              "\n",
              "     worst concave points  worst symmetry  worst fractal dimension  \n",
              "0                  0.2654          0.4601                  0.11890  \n",
              "1                  0.1860          0.2750                  0.08902  \n",
              "2                  0.2430          0.3613                  0.08758  \n",
              "3                  0.2575          0.6638                  0.17300  \n",
              "4                  0.1625          0.2364                  0.07678  \n",
              "..                    ...             ...                      ...  \n",
              "564                0.2216          0.2060                  0.07115  \n",
              "565                0.1628          0.2572                  0.06637  \n",
              "566                0.1418          0.2218                  0.07820  \n",
              "567                0.2650          0.4087                  0.12400  \n",
              "568                0.0000          0.2871                  0.07039  \n",
              "\n",
              "[569 rows x 30 columns]"
            ],
            "text/html": [
              "\n",
              "  <div id=\"df-d2a9e0e2-4bcb-4397-b1e3-bf16b4b73cda\">\n",
              "    <div class=\"colab-df-container\">\n",
              "      <div>\n",
              "<style scoped>\n",
              "    .dataframe tbody tr th:only-of-type {\n",
              "        vertical-align: middle;\n",
              "    }\n",
              "\n",
              "    .dataframe tbody tr th {\n",
              "        vertical-align: top;\n",
              "    }\n",
              "\n",
              "    .dataframe thead th {\n",
              "        text-align: right;\n",
              "    }\n",
              "</style>\n",
              "<table border=\"1\" class=\"dataframe\">\n",
              "  <thead>\n",
              "    <tr style=\"text-align: right;\">\n",
              "      <th></th>\n",
              "      <th>mean radius</th>\n",
              "      <th>mean texture</th>\n",
              "      <th>mean perimeter</th>\n",
              "      <th>mean area</th>\n",
              "      <th>mean smoothness</th>\n",
              "      <th>mean compactness</th>\n",
              "      <th>mean concavity</th>\n",
              "      <th>mean concave points</th>\n",
              "      <th>mean symmetry</th>\n",
              "      <th>mean fractal dimension</th>\n",
              "      <th>radius error</th>\n",
              "      <th>texture error</th>\n",
              "      <th>perimeter error</th>\n",
              "      <th>area error</th>\n",
              "      <th>smoothness error</th>\n",
              "      <th>compactness error</th>\n",
              "      <th>concavity error</th>\n",
              "      <th>concave points error</th>\n",
              "      <th>symmetry error</th>\n",
              "      <th>fractal dimension error</th>\n",
              "      <th>worst radius</th>\n",
              "      <th>worst texture</th>\n",
              "      <th>worst perimeter</th>\n",
              "      <th>worst area</th>\n",
              "      <th>worst smoothness</th>\n",
              "      <th>worst compactness</th>\n",
              "      <th>worst concavity</th>\n",
              "      <th>worst concave points</th>\n",
              "      <th>worst symmetry</th>\n",
              "      <th>worst fractal dimension</th>\n",
              "    </tr>\n",
              "  </thead>\n",
              "  <tbody>\n",
              "    <tr>\n",
              "      <th>0</th>\n",
              "      <td>17.99</td>\n",
              "      <td>10.38</td>\n",
              "      <td>122.80</td>\n",
              "      <td>1001.0</td>\n",
              "      <td>0.11840</td>\n",
              "      <td>0.27760</td>\n",
              "      <td>0.30010</td>\n",
              "      <td>0.14710</td>\n",
              "      <td>0.2419</td>\n",
              "      <td>0.07871</td>\n",
              "      <td>1.0950</td>\n",
              "      <td>0.9053</td>\n",
              "      <td>8.589</td>\n",
              "      <td>153.40</td>\n",
              "      <td>0.006399</td>\n",
              "      <td>0.04904</td>\n",
              "      <td>0.05373</td>\n",
              "      <td>0.01587</td>\n",
              "      <td>0.03003</td>\n",
              "      <td>0.006193</td>\n",
              "      <td>25.380</td>\n",
              "      <td>17.33</td>\n",
              "      <td>184.60</td>\n",
              "      <td>2019.0</td>\n",
              "      <td>0.16220</td>\n",
              "      <td>0.66560</td>\n",
              "      <td>0.7119</td>\n",
              "      <td>0.2654</td>\n",
              "      <td>0.4601</td>\n",
              "      <td>0.11890</td>\n",
              "    </tr>\n",
              "    <tr>\n",
              "      <th>1</th>\n",
              "      <td>20.57</td>\n",
              "      <td>17.77</td>\n",
              "      <td>132.90</td>\n",
              "      <td>1326.0</td>\n",
              "      <td>0.08474</td>\n",
              "      <td>0.07864</td>\n",
              "      <td>0.08690</td>\n",
              "      <td>0.07017</td>\n",
              "      <td>0.1812</td>\n",
              "      <td>0.05667</td>\n",
              "      <td>0.5435</td>\n",
              "      <td>0.7339</td>\n",
              "      <td>3.398</td>\n",
              "      <td>74.08</td>\n",
              "      <td>0.005225</td>\n",
              "      <td>0.01308</td>\n",
              "      <td>0.01860</td>\n",
              "      <td>0.01340</td>\n",
              "      <td>0.01389</td>\n",
              "      <td>0.003532</td>\n",
              "      <td>24.990</td>\n",
              "      <td>23.41</td>\n",
              "      <td>158.80</td>\n",
              "      <td>1956.0</td>\n",
              "      <td>0.12380</td>\n",
              "      <td>0.18660</td>\n",
              "      <td>0.2416</td>\n",
              "      <td>0.1860</td>\n",
              "      <td>0.2750</td>\n",
              "      <td>0.08902</td>\n",
              "    </tr>\n",
              "    <tr>\n",
              "      <th>2</th>\n",
              "      <td>19.69</td>\n",
              "      <td>21.25</td>\n",
              "      <td>130.00</td>\n",
              "      <td>1203.0</td>\n",
              "      <td>0.10960</td>\n",
              "      <td>0.15990</td>\n",
              "      <td>0.19740</td>\n",
              "      <td>0.12790</td>\n",
              "      <td>0.2069</td>\n",
              "      <td>0.05999</td>\n",
              "      <td>0.7456</td>\n",
              "      <td>0.7869</td>\n",
              "      <td>4.585</td>\n",
              "      <td>94.03</td>\n",
              "      <td>0.006150</td>\n",
              "      <td>0.04006</td>\n",
              "      <td>0.03832</td>\n",
              "      <td>0.02058</td>\n",
              "      <td>0.02250</td>\n",
              "      <td>0.004571</td>\n",
              "      <td>23.570</td>\n",
              "      <td>25.53</td>\n",
              "      <td>152.50</td>\n",
              "      <td>1709.0</td>\n",
              "      <td>0.14440</td>\n",
              "      <td>0.42450</td>\n",
              "      <td>0.4504</td>\n",
              "      <td>0.2430</td>\n",
              "      <td>0.3613</td>\n",
              "      <td>0.08758</td>\n",
              "    </tr>\n",
              "    <tr>\n",
              "      <th>3</th>\n",
              "      <td>11.42</td>\n",
              "      <td>20.38</td>\n",
              "      <td>77.58</td>\n",
              "      <td>386.1</td>\n",
              "      <td>0.14250</td>\n",
              "      <td>0.28390</td>\n",
              "      <td>0.24140</td>\n",
              "      <td>0.10520</td>\n",
              "      <td>0.2597</td>\n",
              "      <td>0.09744</td>\n",
              "      <td>0.4956</td>\n",
              "      <td>1.1560</td>\n",
              "      <td>3.445</td>\n",
              "      <td>27.23</td>\n",
              "      <td>0.009110</td>\n",
              "      <td>0.07458</td>\n",
              "      <td>0.05661</td>\n",
              "      <td>0.01867</td>\n",
              "      <td>0.05963</td>\n",
              "      <td>0.009208</td>\n",
              "      <td>14.910</td>\n",
              "      <td>26.50</td>\n",
              "      <td>98.87</td>\n",
              "      <td>567.7</td>\n",
              "      <td>0.20980</td>\n",
              "      <td>0.86630</td>\n",
              "      <td>0.6869</td>\n",
              "      <td>0.2575</td>\n",
              "      <td>0.6638</td>\n",
              "      <td>0.17300</td>\n",
              "    </tr>\n",
              "    <tr>\n",
              "      <th>4</th>\n",
              "      <td>20.29</td>\n",
              "      <td>14.34</td>\n",
              "      <td>135.10</td>\n",
              "      <td>1297.0</td>\n",
              "      <td>0.10030</td>\n",
              "      <td>0.13280</td>\n",
              "      <td>0.19800</td>\n",
              "      <td>0.10430</td>\n",
              "      <td>0.1809</td>\n",
              "      <td>0.05883</td>\n",
              "      <td>0.7572</td>\n",
              "      <td>0.7813</td>\n",
              "      <td>5.438</td>\n",
              "      <td>94.44</td>\n",
              "      <td>0.011490</td>\n",
              "      <td>0.02461</td>\n",
              "      <td>0.05688</td>\n",
              "      <td>0.01885</td>\n",
              "      <td>0.01756</td>\n",
              "      <td>0.005115</td>\n",
              "      <td>22.540</td>\n",
              "      <td>16.67</td>\n",
              "      <td>152.20</td>\n",
              "      <td>1575.0</td>\n",
              "      <td>0.13740</td>\n",
              "      <td>0.20500</td>\n",
              "      <td>0.4000</td>\n",
              "      <td>0.1625</td>\n",
              "      <td>0.2364</td>\n",
              "      <td>0.07678</td>\n",
              "    </tr>\n",
              "    <tr>\n",
              "      <th>...</th>\n",
              "      <td>...</td>\n",
              "      <td>...</td>\n",
              "      <td>...</td>\n",
              "      <td>...</td>\n",
              "      <td>...</td>\n",
              "      <td>...</td>\n",
              "      <td>...</td>\n",
              "      <td>...</td>\n",
              "      <td>...</td>\n",
              "      <td>...</td>\n",
              "      <td>...</td>\n",
              "      <td>...</td>\n",
              "      <td>...</td>\n",
              "      <td>...</td>\n",
              "      <td>...</td>\n",
              "      <td>...</td>\n",
              "      <td>...</td>\n",
              "      <td>...</td>\n",
              "      <td>...</td>\n",
              "      <td>...</td>\n",
              "      <td>...</td>\n",
              "      <td>...</td>\n",
              "      <td>...</td>\n",
              "      <td>...</td>\n",
              "      <td>...</td>\n",
              "      <td>...</td>\n",
              "      <td>...</td>\n",
              "      <td>...</td>\n",
              "      <td>...</td>\n",
              "      <td>...</td>\n",
              "    </tr>\n",
              "    <tr>\n",
              "      <th>564</th>\n",
              "      <td>21.56</td>\n",
              "      <td>22.39</td>\n",
              "      <td>142.00</td>\n",
              "      <td>1479.0</td>\n",
              "      <td>0.11100</td>\n",
              "      <td>0.11590</td>\n",
              "      <td>0.24390</td>\n",
              "      <td>0.13890</td>\n",
              "      <td>0.1726</td>\n",
              "      <td>0.05623</td>\n",
              "      <td>1.1760</td>\n",
              "      <td>1.2560</td>\n",
              "      <td>7.673</td>\n",
              "      <td>158.70</td>\n",
              "      <td>0.010300</td>\n",
              "      <td>0.02891</td>\n",
              "      <td>0.05198</td>\n",
              "      <td>0.02454</td>\n",
              "      <td>0.01114</td>\n",
              "      <td>0.004239</td>\n",
              "      <td>25.450</td>\n",
              "      <td>26.40</td>\n",
              "      <td>166.10</td>\n",
              "      <td>2027.0</td>\n",
              "      <td>0.14100</td>\n",
              "      <td>0.21130</td>\n",
              "      <td>0.4107</td>\n",
              "      <td>0.2216</td>\n",
              "      <td>0.2060</td>\n",
              "      <td>0.07115</td>\n",
              "    </tr>\n",
              "    <tr>\n",
              "      <th>565</th>\n",
              "      <td>20.13</td>\n",
              "      <td>28.25</td>\n",
              "      <td>131.20</td>\n",
              "      <td>1261.0</td>\n",
              "      <td>0.09780</td>\n",
              "      <td>0.10340</td>\n",
              "      <td>0.14400</td>\n",
              "      <td>0.09791</td>\n",
              "      <td>0.1752</td>\n",
              "      <td>0.05533</td>\n",
              "      <td>0.7655</td>\n",
              "      <td>2.4630</td>\n",
              "      <td>5.203</td>\n",
              "      <td>99.04</td>\n",
              "      <td>0.005769</td>\n",
              "      <td>0.02423</td>\n",
              "      <td>0.03950</td>\n",
              "      <td>0.01678</td>\n",
              "      <td>0.01898</td>\n",
              "      <td>0.002498</td>\n",
              "      <td>23.690</td>\n",
              "      <td>38.25</td>\n",
              "      <td>155.00</td>\n",
              "      <td>1731.0</td>\n",
              "      <td>0.11660</td>\n",
              "      <td>0.19220</td>\n",
              "      <td>0.3215</td>\n",
              "      <td>0.1628</td>\n",
              "      <td>0.2572</td>\n",
              "      <td>0.06637</td>\n",
              "    </tr>\n",
              "    <tr>\n",
              "      <th>566</th>\n",
              "      <td>16.60</td>\n",
              "      <td>28.08</td>\n",
              "      <td>108.30</td>\n",
              "      <td>858.1</td>\n",
              "      <td>0.08455</td>\n",
              "      <td>0.10230</td>\n",
              "      <td>0.09251</td>\n",
              "      <td>0.05302</td>\n",
              "      <td>0.1590</td>\n",
              "      <td>0.05648</td>\n",
              "      <td>0.4564</td>\n",
              "      <td>1.0750</td>\n",
              "      <td>3.425</td>\n",
              "      <td>48.55</td>\n",
              "      <td>0.005903</td>\n",
              "      <td>0.03731</td>\n",
              "      <td>0.04730</td>\n",
              "      <td>0.01557</td>\n",
              "      <td>0.01318</td>\n",
              "      <td>0.003892</td>\n",
              "      <td>18.980</td>\n",
              "      <td>34.12</td>\n",
              "      <td>126.70</td>\n",
              "      <td>1124.0</td>\n",
              "      <td>0.11390</td>\n",
              "      <td>0.30940</td>\n",
              "      <td>0.3403</td>\n",
              "      <td>0.1418</td>\n",
              "      <td>0.2218</td>\n",
              "      <td>0.07820</td>\n",
              "    </tr>\n",
              "    <tr>\n",
              "      <th>567</th>\n",
              "      <td>20.60</td>\n",
              "      <td>29.33</td>\n",
              "      <td>140.10</td>\n",
              "      <td>1265.0</td>\n",
              "      <td>0.11780</td>\n",
              "      <td>0.27700</td>\n",
              "      <td>0.35140</td>\n",
              "      <td>0.15200</td>\n",
              "      <td>0.2397</td>\n",
              "      <td>0.07016</td>\n",
              "      <td>0.7260</td>\n",
              "      <td>1.5950</td>\n",
              "      <td>5.772</td>\n",
              "      <td>86.22</td>\n",
              "      <td>0.006522</td>\n",
              "      <td>0.06158</td>\n",
              "      <td>0.07117</td>\n",
              "      <td>0.01664</td>\n",
              "      <td>0.02324</td>\n",
              "      <td>0.006185</td>\n",
              "      <td>25.740</td>\n",
              "      <td>39.42</td>\n",
              "      <td>184.60</td>\n",
              "      <td>1821.0</td>\n",
              "      <td>0.16500</td>\n",
              "      <td>0.86810</td>\n",
              "      <td>0.9387</td>\n",
              "      <td>0.2650</td>\n",
              "      <td>0.4087</td>\n",
              "      <td>0.12400</td>\n",
              "    </tr>\n",
              "    <tr>\n",
              "      <th>568</th>\n",
              "      <td>7.76</td>\n",
              "      <td>24.54</td>\n",
              "      <td>47.92</td>\n",
              "      <td>181.0</td>\n",
              "      <td>0.05263</td>\n",
              "      <td>0.04362</td>\n",
              "      <td>0.00000</td>\n",
              "      <td>0.00000</td>\n",
              "      <td>0.1587</td>\n",
              "      <td>0.05884</td>\n",
              "      <td>0.3857</td>\n",
              "      <td>1.4280</td>\n",
              "      <td>2.548</td>\n",
              "      <td>19.15</td>\n",
              "      <td>0.007189</td>\n",
              "      <td>0.00466</td>\n",
              "      <td>0.00000</td>\n",
              "      <td>0.00000</td>\n",
              "      <td>0.02676</td>\n",
              "      <td>0.002783</td>\n",
              "      <td>9.456</td>\n",
              "      <td>30.37</td>\n",
              "      <td>59.16</td>\n",
              "      <td>268.6</td>\n",
              "      <td>0.08996</td>\n",
              "      <td>0.06444</td>\n",
              "      <td>0.0000</td>\n",
              "      <td>0.0000</td>\n",
              "      <td>0.2871</td>\n",
              "      <td>0.07039</td>\n",
              "    </tr>\n",
              "  </tbody>\n",
              "</table>\n",
              "<p>569 rows × 30 columns</p>\n",
              "</div>\n",
              "      <button class=\"colab-df-convert\" onclick=\"convertToInteractive('df-d2a9e0e2-4bcb-4397-b1e3-bf16b4b73cda')\"\n",
              "              title=\"Convert this dataframe to an interactive table.\"\n",
              "              style=\"display:none;\">\n",
              "        \n",
              "  <svg xmlns=\"http://www.w3.org/2000/svg\" height=\"24px\"viewBox=\"0 0 24 24\"\n",
              "       width=\"24px\">\n",
              "    <path d=\"M0 0h24v24H0V0z\" fill=\"none\"/>\n",
              "    <path d=\"M18.56 5.44l.94 2.06.94-2.06 2.06-.94-2.06-.94-.94-2.06-.94 2.06-2.06.94zm-11 1L8.5 8.5l.94-2.06 2.06-.94-2.06-.94L8.5 2.5l-.94 2.06-2.06.94zm10 10l.94 2.06.94-2.06 2.06-.94-2.06-.94-.94-2.06-.94 2.06-2.06.94z\"/><path d=\"M17.41 7.96l-1.37-1.37c-.4-.4-.92-.59-1.43-.59-.52 0-1.04.2-1.43.59L10.3 9.45l-7.72 7.72c-.78.78-.78 2.05 0 2.83L4 21.41c.39.39.9.59 1.41.59.51 0 1.02-.2 1.41-.59l7.78-7.78 2.81-2.81c.8-.78.8-2.07 0-2.86zM5.41 20L4 18.59l7.72-7.72 1.47 1.35L5.41 20z\"/>\n",
              "  </svg>\n",
              "      </button>\n",
              "      \n",
              "  <style>\n",
              "    .colab-df-container {\n",
              "      display:flex;\n",
              "      flex-wrap:wrap;\n",
              "      gap: 12px;\n",
              "    }\n",
              "\n",
              "    .colab-df-convert {\n",
              "      background-color: #E8F0FE;\n",
              "      border: none;\n",
              "      border-radius: 50%;\n",
              "      cursor: pointer;\n",
              "      display: none;\n",
              "      fill: #1967D2;\n",
              "      height: 32px;\n",
              "      padding: 0 0 0 0;\n",
              "      width: 32px;\n",
              "    }\n",
              "\n",
              "    .colab-df-convert:hover {\n",
              "      background-color: #E2EBFA;\n",
              "      box-shadow: 0px 1px 2px rgba(60, 64, 67, 0.3), 0px 1px 3px 1px rgba(60, 64, 67, 0.15);\n",
              "      fill: #174EA6;\n",
              "    }\n",
              "\n",
              "    [theme=dark] .colab-df-convert {\n",
              "      background-color: #3B4455;\n",
              "      fill: #D2E3FC;\n",
              "    }\n",
              "\n",
              "    [theme=dark] .colab-df-convert:hover {\n",
              "      background-color: #434B5C;\n",
              "      box-shadow: 0px 1px 3px 1px rgba(0, 0, 0, 0.15);\n",
              "      filter: drop-shadow(0px 1px 2px rgba(0, 0, 0, 0.3));\n",
              "      fill: #FFFFFF;\n",
              "    }\n",
              "  </style>\n",
              "\n",
              "      <script>\n",
              "        const buttonEl =\n",
              "          document.querySelector('#df-d2a9e0e2-4bcb-4397-b1e3-bf16b4b73cda button.colab-df-convert');\n",
              "        buttonEl.style.display =\n",
              "          google.colab.kernel.accessAllowed ? 'block' : 'none';\n",
              "\n",
              "        async function convertToInteractive(key) {\n",
              "          const element = document.querySelector('#df-d2a9e0e2-4bcb-4397-b1e3-bf16b4b73cda');\n",
              "          const dataTable =\n",
              "            await google.colab.kernel.invokeFunction('convertToInteractive',\n",
              "                                                     [key], {});\n",
              "          if (!dataTable) return;\n",
              "\n",
              "          const docLinkHtml = 'Like what you see? Visit the ' +\n",
              "            '<a target=\"_blank\" href=https://colab.research.google.com/notebooks/data_table.ipynb>data table notebook</a>'\n",
              "            + ' to learn more about interactive tables.';\n",
              "          element.innerHTML = '';\n",
              "          dataTable['output_type'] = 'display_data';\n",
              "          await google.colab.output.renderOutput(dataTable, element);\n",
              "          const docLink = document.createElement('div');\n",
              "          docLink.innerHTML = docLinkHtml;\n",
              "          element.appendChild(docLink);\n",
              "        }\n",
              "      </script>\n",
              "    </div>\n",
              "  </div>\n",
              "  "
            ]
          },
          "metadata": {},
          "execution_count": 9
        }
      ]
    },
    {
      "cell_type": "markdown",
      "source": [
        "Además, vamos a guardar la clase del dataset (_target_) en la columna **Diagnosis**"
      ],
      "metadata": {
        "id": "fshwqOQLQUbi"
      }
    },
    {
      "cell_type": "code",
      "source": [
        "data['Diagnosis']=pd.Series(data= d.target, index=data.index)"
      ],
      "metadata": {
        "id": "oc-TEvBG3tqs"
      },
      "execution_count": null,
      "outputs": []
    },
    {
      "cell_type": "code",
      "source": [
        "data.head()"
      ],
      "metadata": {
        "colab": {
          "base_uri": "https://localhost:8080/",
          "height": 305
        },
        "id": "VW_G3wJu3-Sm",
        "outputId": "77af4d59-7d5a-49ae-e57a-02eb71159917"
      },
      "execution_count": null,
      "outputs": [
        {
          "output_type": "execute_result",
          "data": {
            "text/plain": [
              "   mean radius  mean texture  mean perimeter  mean area  mean smoothness  \\\n",
              "0        17.99         10.38          122.80     1001.0          0.11840   \n",
              "1        20.57         17.77          132.90     1326.0          0.08474   \n",
              "2        19.69         21.25          130.00     1203.0          0.10960   \n",
              "3        11.42         20.38           77.58      386.1          0.14250   \n",
              "4        20.29         14.34          135.10     1297.0          0.10030   \n",
              "\n",
              "   mean compactness  mean concavity  mean concave points  mean symmetry  \\\n",
              "0           0.27760          0.3001              0.14710         0.2419   \n",
              "1           0.07864          0.0869              0.07017         0.1812   \n",
              "2           0.15990          0.1974              0.12790         0.2069   \n",
              "3           0.28390          0.2414              0.10520         0.2597   \n",
              "4           0.13280          0.1980              0.10430         0.1809   \n",
              "\n",
              "   mean fractal dimension  radius error  texture error  perimeter error  \\\n",
              "0                 0.07871        1.0950         0.9053            8.589   \n",
              "1                 0.05667        0.5435         0.7339            3.398   \n",
              "2                 0.05999        0.7456         0.7869            4.585   \n",
              "3                 0.09744        0.4956         1.1560            3.445   \n",
              "4                 0.05883        0.7572         0.7813            5.438   \n",
              "\n",
              "   area error  smoothness error  compactness error  concavity error  \\\n",
              "0      153.40          0.006399            0.04904          0.05373   \n",
              "1       74.08          0.005225            0.01308          0.01860   \n",
              "2       94.03          0.006150            0.04006          0.03832   \n",
              "3       27.23          0.009110            0.07458          0.05661   \n",
              "4       94.44          0.011490            0.02461          0.05688   \n",
              "\n",
              "   concave points error  symmetry error  fractal dimension error  \\\n",
              "0               0.01587         0.03003                 0.006193   \n",
              "1               0.01340         0.01389                 0.003532   \n",
              "2               0.02058         0.02250                 0.004571   \n",
              "3               0.01867         0.05963                 0.009208   \n",
              "4               0.01885         0.01756                 0.005115   \n",
              "\n",
              "   worst radius  worst texture  worst perimeter  worst area  worst smoothness  \\\n",
              "0         25.38          17.33           184.60      2019.0            0.1622   \n",
              "1         24.99          23.41           158.80      1956.0            0.1238   \n",
              "2         23.57          25.53           152.50      1709.0            0.1444   \n",
              "3         14.91          26.50            98.87       567.7            0.2098   \n",
              "4         22.54          16.67           152.20      1575.0            0.1374   \n",
              "\n",
              "   worst compactness  worst concavity  worst concave points  worst symmetry  \\\n",
              "0             0.6656           0.7119                0.2654          0.4601   \n",
              "1             0.1866           0.2416                0.1860          0.2750   \n",
              "2             0.4245           0.4504                0.2430          0.3613   \n",
              "3             0.8663           0.6869                0.2575          0.6638   \n",
              "4             0.2050           0.4000                0.1625          0.2364   \n",
              "\n",
              "   worst fractal dimension  Diagnosis  \n",
              "0                  0.11890          0  \n",
              "1                  0.08902          0  \n",
              "2                  0.08758          0  \n",
              "3                  0.17300          0  \n",
              "4                  0.07678          0  "
            ],
            "text/html": [
              "\n",
              "  <div id=\"df-77f5bbc8-071a-4059-be19-92dca69ae96f\">\n",
              "    <div class=\"colab-df-container\">\n",
              "      <div>\n",
              "<style scoped>\n",
              "    .dataframe tbody tr th:only-of-type {\n",
              "        vertical-align: middle;\n",
              "    }\n",
              "\n",
              "    .dataframe tbody tr th {\n",
              "        vertical-align: top;\n",
              "    }\n",
              "\n",
              "    .dataframe thead th {\n",
              "        text-align: right;\n",
              "    }\n",
              "</style>\n",
              "<table border=\"1\" class=\"dataframe\">\n",
              "  <thead>\n",
              "    <tr style=\"text-align: right;\">\n",
              "      <th></th>\n",
              "      <th>mean radius</th>\n",
              "      <th>mean texture</th>\n",
              "      <th>mean perimeter</th>\n",
              "      <th>mean area</th>\n",
              "      <th>mean smoothness</th>\n",
              "      <th>mean compactness</th>\n",
              "      <th>mean concavity</th>\n",
              "      <th>mean concave points</th>\n",
              "      <th>mean symmetry</th>\n",
              "      <th>mean fractal dimension</th>\n",
              "      <th>radius error</th>\n",
              "      <th>texture error</th>\n",
              "      <th>perimeter error</th>\n",
              "      <th>area error</th>\n",
              "      <th>smoothness error</th>\n",
              "      <th>compactness error</th>\n",
              "      <th>concavity error</th>\n",
              "      <th>concave points error</th>\n",
              "      <th>symmetry error</th>\n",
              "      <th>fractal dimension error</th>\n",
              "      <th>worst radius</th>\n",
              "      <th>worst texture</th>\n",
              "      <th>worst perimeter</th>\n",
              "      <th>worst area</th>\n",
              "      <th>worst smoothness</th>\n",
              "      <th>worst compactness</th>\n",
              "      <th>worst concavity</th>\n",
              "      <th>worst concave points</th>\n",
              "      <th>worst symmetry</th>\n",
              "      <th>worst fractal dimension</th>\n",
              "      <th>Diagnosis</th>\n",
              "    </tr>\n",
              "  </thead>\n",
              "  <tbody>\n",
              "    <tr>\n",
              "      <th>0</th>\n",
              "      <td>17.99</td>\n",
              "      <td>10.38</td>\n",
              "      <td>122.80</td>\n",
              "      <td>1001.0</td>\n",
              "      <td>0.11840</td>\n",
              "      <td>0.27760</td>\n",
              "      <td>0.3001</td>\n",
              "      <td>0.14710</td>\n",
              "      <td>0.2419</td>\n",
              "      <td>0.07871</td>\n",
              "      <td>1.0950</td>\n",
              "      <td>0.9053</td>\n",
              "      <td>8.589</td>\n",
              "      <td>153.40</td>\n",
              "      <td>0.006399</td>\n",
              "      <td>0.04904</td>\n",
              "      <td>0.05373</td>\n",
              "      <td>0.01587</td>\n",
              "      <td>0.03003</td>\n",
              "      <td>0.006193</td>\n",
              "      <td>25.38</td>\n",
              "      <td>17.33</td>\n",
              "      <td>184.60</td>\n",
              "      <td>2019.0</td>\n",
              "      <td>0.1622</td>\n",
              "      <td>0.6656</td>\n",
              "      <td>0.7119</td>\n",
              "      <td>0.2654</td>\n",
              "      <td>0.4601</td>\n",
              "      <td>0.11890</td>\n",
              "      <td>0</td>\n",
              "    </tr>\n",
              "    <tr>\n",
              "      <th>1</th>\n",
              "      <td>20.57</td>\n",
              "      <td>17.77</td>\n",
              "      <td>132.90</td>\n",
              "      <td>1326.0</td>\n",
              "      <td>0.08474</td>\n",
              "      <td>0.07864</td>\n",
              "      <td>0.0869</td>\n",
              "      <td>0.07017</td>\n",
              "      <td>0.1812</td>\n",
              "      <td>0.05667</td>\n",
              "      <td>0.5435</td>\n",
              "      <td>0.7339</td>\n",
              "      <td>3.398</td>\n",
              "      <td>74.08</td>\n",
              "      <td>0.005225</td>\n",
              "      <td>0.01308</td>\n",
              "      <td>0.01860</td>\n",
              "      <td>0.01340</td>\n",
              "      <td>0.01389</td>\n",
              "      <td>0.003532</td>\n",
              "      <td>24.99</td>\n",
              "      <td>23.41</td>\n",
              "      <td>158.80</td>\n",
              "      <td>1956.0</td>\n",
              "      <td>0.1238</td>\n",
              "      <td>0.1866</td>\n",
              "      <td>0.2416</td>\n",
              "      <td>0.1860</td>\n",
              "      <td>0.2750</td>\n",
              "      <td>0.08902</td>\n",
              "      <td>0</td>\n",
              "    </tr>\n",
              "    <tr>\n",
              "      <th>2</th>\n",
              "      <td>19.69</td>\n",
              "      <td>21.25</td>\n",
              "      <td>130.00</td>\n",
              "      <td>1203.0</td>\n",
              "      <td>0.10960</td>\n",
              "      <td>0.15990</td>\n",
              "      <td>0.1974</td>\n",
              "      <td>0.12790</td>\n",
              "      <td>0.2069</td>\n",
              "      <td>0.05999</td>\n",
              "      <td>0.7456</td>\n",
              "      <td>0.7869</td>\n",
              "      <td>4.585</td>\n",
              "      <td>94.03</td>\n",
              "      <td>0.006150</td>\n",
              "      <td>0.04006</td>\n",
              "      <td>0.03832</td>\n",
              "      <td>0.02058</td>\n",
              "      <td>0.02250</td>\n",
              "      <td>0.004571</td>\n",
              "      <td>23.57</td>\n",
              "      <td>25.53</td>\n",
              "      <td>152.50</td>\n",
              "      <td>1709.0</td>\n",
              "      <td>0.1444</td>\n",
              "      <td>0.4245</td>\n",
              "      <td>0.4504</td>\n",
              "      <td>0.2430</td>\n",
              "      <td>0.3613</td>\n",
              "      <td>0.08758</td>\n",
              "      <td>0</td>\n",
              "    </tr>\n",
              "    <tr>\n",
              "      <th>3</th>\n",
              "      <td>11.42</td>\n",
              "      <td>20.38</td>\n",
              "      <td>77.58</td>\n",
              "      <td>386.1</td>\n",
              "      <td>0.14250</td>\n",
              "      <td>0.28390</td>\n",
              "      <td>0.2414</td>\n",
              "      <td>0.10520</td>\n",
              "      <td>0.2597</td>\n",
              "      <td>0.09744</td>\n",
              "      <td>0.4956</td>\n",
              "      <td>1.1560</td>\n",
              "      <td>3.445</td>\n",
              "      <td>27.23</td>\n",
              "      <td>0.009110</td>\n",
              "      <td>0.07458</td>\n",
              "      <td>0.05661</td>\n",
              "      <td>0.01867</td>\n",
              "      <td>0.05963</td>\n",
              "      <td>0.009208</td>\n",
              "      <td>14.91</td>\n",
              "      <td>26.50</td>\n",
              "      <td>98.87</td>\n",
              "      <td>567.7</td>\n",
              "      <td>0.2098</td>\n",
              "      <td>0.8663</td>\n",
              "      <td>0.6869</td>\n",
              "      <td>0.2575</td>\n",
              "      <td>0.6638</td>\n",
              "      <td>0.17300</td>\n",
              "      <td>0</td>\n",
              "    </tr>\n",
              "    <tr>\n",
              "      <th>4</th>\n",
              "      <td>20.29</td>\n",
              "      <td>14.34</td>\n",
              "      <td>135.10</td>\n",
              "      <td>1297.0</td>\n",
              "      <td>0.10030</td>\n",
              "      <td>0.13280</td>\n",
              "      <td>0.1980</td>\n",
              "      <td>0.10430</td>\n",
              "      <td>0.1809</td>\n",
              "      <td>0.05883</td>\n",
              "      <td>0.7572</td>\n",
              "      <td>0.7813</td>\n",
              "      <td>5.438</td>\n",
              "      <td>94.44</td>\n",
              "      <td>0.011490</td>\n",
              "      <td>0.02461</td>\n",
              "      <td>0.05688</td>\n",
              "      <td>0.01885</td>\n",
              "      <td>0.01756</td>\n",
              "      <td>0.005115</td>\n",
              "      <td>22.54</td>\n",
              "      <td>16.67</td>\n",
              "      <td>152.20</td>\n",
              "      <td>1575.0</td>\n",
              "      <td>0.1374</td>\n",
              "      <td>0.2050</td>\n",
              "      <td>0.4000</td>\n",
              "      <td>0.1625</td>\n",
              "      <td>0.2364</td>\n",
              "      <td>0.07678</td>\n",
              "      <td>0</td>\n",
              "    </tr>\n",
              "  </tbody>\n",
              "</table>\n",
              "</div>\n",
              "      <button class=\"colab-df-convert\" onclick=\"convertToInteractive('df-77f5bbc8-071a-4059-be19-92dca69ae96f')\"\n",
              "              title=\"Convert this dataframe to an interactive table.\"\n",
              "              style=\"display:none;\">\n",
              "        \n",
              "  <svg xmlns=\"http://www.w3.org/2000/svg\" height=\"24px\"viewBox=\"0 0 24 24\"\n",
              "       width=\"24px\">\n",
              "    <path d=\"M0 0h24v24H0V0z\" fill=\"none\"/>\n",
              "    <path d=\"M18.56 5.44l.94 2.06.94-2.06 2.06-.94-2.06-.94-.94-2.06-.94 2.06-2.06.94zm-11 1L8.5 8.5l.94-2.06 2.06-.94-2.06-.94L8.5 2.5l-.94 2.06-2.06.94zm10 10l.94 2.06.94-2.06 2.06-.94-2.06-.94-.94-2.06-.94 2.06-2.06.94z\"/><path d=\"M17.41 7.96l-1.37-1.37c-.4-.4-.92-.59-1.43-.59-.52 0-1.04.2-1.43.59L10.3 9.45l-7.72 7.72c-.78.78-.78 2.05 0 2.83L4 21.41c.39.39.9.59 1.41.59.51 0 1.02-.2 1.41-.59l7.78-7.78 2.81-2.81c.8-.78.8-2.07 0-2.86zM5.41 20L4 18.59l7.72-7.72 1.47 1.35L5.41 20z\"/>\n",
              "  </svg>\n",
              "      </button>\n",
              "      \n",
              "  <style>\n",
              "    .colab-df-container {\n",
              "      display:flex;\n",
              "      flex-wrap:wrap;\n",
              "      gap: 12px;\n",
              "    }\n",
              "\n",
              "    .colab-df-convert {\n",
              "      background-color: #E8F0FE;\n",
              "      border: none;\n",
              "      border-radius: 50%;\n",
              "      cursor: pointer;\n",
              "      display: none;\n",
              "      fill: #1967D2;\n",
              "      height: 32px;\n",
              "      padding: 0 0 0 0;\n",
              "      width: 32px;\n",
              "    }\n",
              "\n",
              "    .colab-df-convert:hover {\n",
              "      background-color: #E2EBFA;\n",
              "      box-shadow: 0px 1px 2px rgba(60, 64, 67, 0.3), 0px 1px 3px 1px rgba(60, 64, 67, 0.15);\n",
              "      fill: #174EA6;\n",
              "    }\n",
              "\n",
              "    [theme=dark] .colab-df-convert {\n",
              "      background-color: #3B4455;\n",
              "      fill: #D2E3FC;\n",
              "    }\n",
              "\n",
              "    [theme=dark] .colab-df-convert:hover {\n",
              "      background-color: #434B5C;\n",
              "      box-shadow: 0px 1px 3px 1px rgba(0, 0, 0, 0.15);\n",
              "      filter: drop-shadow(0px 1px 2px rgba(0, 0, 0, 0.3));\n",
              "      fill: #FFFFFF;\n",
              "    }\n",
              "  </style>\n",
              "\n",
              "      <script>\n",
              "        const buttonEl =\n",
              "          document.querySelector('#df-77f5bbc8-071a-4059-be19-92dca69ae96f button.colab-df-convert');\n",
              "        buttonEl.style.display =\n",
              "          google.colab.kernel.accessAllowed ? 'block' : 'none';\n",
              "\n",
              "        async function convertToInteractive(key) {\n",
              "          const element = document.querySelector('#df-77f5bbc8-071a-4059-be19-92dca69ae96f');\n",
              "          const dataTable =\n",
              "            await google.colab.kernel.invokeFunction('convertToInteractive',\n",
              "                                                     [key], {});\n",
              "          if (!dataTable) return;\n",
              "\n",
              "          const docLinkHtml = 'Like what you see? Visit the ' +\n",
              "            '<a target=\"_blank\" href=https://colab.research.google.com/notebooks/data_table.ipynb>data table notebook</a>'\n",
              "            + ' to learn more about interactive tables.';\n",
              "          element.innerHTML = '';\n",
              "          dataTable['output_type'] = 'display_data';\n",
              "          await google.colab.output.renderOutput(dataTable, element);\n",
              "          const docLink = document.createElement('div');\n",
              "          docLink.innerHTML = docLinkHtml;\n",
              "          element.appendChild(docLink);\n",
              "        }\n",
              "      </script>\n",
              "    </div>\n",
              "  </div>\n",
              "  "
            ]
          },
          "metadata": {},
          "execution_count": 11
        }
      ]
    },
    {
      "cell_type": "markdown",
      "metadata": {
        "id": "piY6f_RyuSMZ"
      },
      "source": [
        "# 2. Análisis de los datos"
      ]
    },
    {
      "cell_type": "markdown",
      "metadata": {
        "id": "8RLETVtXuSMa"
      },
      "source": [
        "## 2.1 Análisis estadístico básico (1 punto)"
      ]
    },
    {
      "cell_type": "markdown",
      "metadata": {
        "id": "W1MA3MqNuSMa"
      },
      "source": [
        "<div style=\"background-color: #EDF7FF; border-color: #7C9DBF; border-left: 5px solid #7C9DBF; padding: 0.5em;\">\n",
        "<strong>Implementación:</strong> Realiza un análisis estadístico básico indicando, para cada atributo numérico del conjunto de datos, su valor medio y desviación estándard. Para las variables categóricas (en los atributos o la respuesta, si las hay), muestra la frecuencia con la que aparecen las diferentes clases.\n",
        "<hr>\n",
        "Sugerencia: puedes usar la librería 'pandas' y sus funciones 'describe' y 'value_counts'\n",
        "</div>"
      ]
    },
    {
      "cell_type": "markdown",
      "source": [
        "En primer lugar, vamos a ver el tipo de variables que tenemos. Para ello, vamos usar la función info()"
      ],
      "metadata": {
        "id": "4OMGMen-Qxzy"
      }
    },
    {
      "cell_type": "code",
      "source": [
        "data.info()"
      ],
      "metadata": {
        "colab": {
          "base_uri": "https://localhost:8080/"
        },
        "id": "TT6DSO8T5l46",
        "outputId": "c8598242-8729-4904-908c-f08f285d3c32"
      },
      "execution_count": null,
      "outputs": [
        {
          "output_type": "stream",
          "name": "stdout",
          "text": [
            "<class 'pandas.core.frame.DataFrame'>\n",
            "RangeIndex: 569 entries, 0 to 568\n",
            "Data columns (total 31 columns):\n",
            " #   Column                   Non-Null Count  Dtype  \n",
            "---  ------                   --------------  -----  \n",
            " 0   mean radius              569 non-null    float64\n",
            " 1   mean texture             569 non-null    float64\n",
            " 2   mean perimeter           569 non-null    float64\n",
            " 3   mean area                569 non-null    float64\n",
            " 4   mean smoothness          569 non-null    float64\n",
            " 5   mean compactness         569 non-null    float64\n",
            " 6   mean concavity           569 non-null    float64\n",
            " 7   mean concave points      569 non-null    float64\n",
            " 8   mean symmetry            569 non-null    float64\n",
            " 9   mean fractal dimension   569 non-null    float64\n",
            " 10  radius error             569 non-null    float64\n",
            " 11  texture error            569 non-null    float64\n",
            " 12  perimeter error          569 non-null    float64\n",
            " 13  area error               569 non-null    float64\n",
            " 14  smoothness error         569 non-null    float64\n",
            " 15  compactness error        569 non-null    float64\n",
            " 16  concavity error          569 non-null    float64\n",
            " 17  concave points error     569 non-null    float64\n",
            " 18  symmetry error           569 non-null    float64\n",
            " 19  fractal dimension error  569 non-null    float64\n",
            " 20  worst radius             569 non-null    float64\n",
            " 21  worst texture            569 non-null    float64\n",
            " 22  worst perimeter          569 non-null    float64\n",
            " 23  worst area               569 non-null    float64\n",
            " 24  worst smoothness         569 non-null    float64\n",
            " 25  worst compactness        569 non-null    float64\n",
            " 26  worst concavity          569 non-null    float64\n",
            " 27  worst concave points     569 non-null    float64\n",
            " 28  worst symmetry           569 non-null    float64\n",
            " 29  worst fractal dimension  569 non-null    float64\n",
            " 30  Diagnosis                569 non-null    int64  \n",
            "dtypes: float64(30), int64(1)\n",
            "memory usage: 137.9 KB\n"
          ]
        }
      ]
    },
    {
      "cell_type": "markdown",
      "source": [
        "Los atributos del dataset son todos de tipo *float* (exceptuando la clase). También hemos podido observar que no existe ningún valor nulo en el dataset.\n",
        "\n",
        "A continuación, se muestra el análisis estadístico básico de todas estas variables. Podemos observar que existen diferencias de magnitud significativas entre las distintas variables."
      ],
      "metadata": {
        "id": "7EdBfP2A60Q7"
      }
    },
    {
      "cell_type": "code",
      "execution_count": null,
      "metadata": {
        "id": "Q8sVu19uuSMc",
        "colab": {
          "base_uri": "https://localhost:8080/",
          "height": 399
        },
        "outputId": "ae5ecd20-13bc-4fee-8a2a-18fe2f37dfa7"
      },
      "outputs": [
        {
          "output_type": "execute_result",
          "data": {
            "text/plain": [
              "       mean radius  mean texture  mean perimeter    mean area  \\\n",
              "count   569.000000    569.000000      569.000000   569.000000   \n",
              "mean     14.127292     19.289649       91.969033   654.889104   \n",
              "std       3.524049      4.301036       24.298981   351.914129   \n",
              "min       6.981000      9.710000       43.790000   143.500000   \n",
              "25%      11.700000     16.170000       75.170000   420.300000   \n",
              "50%      13.370000     18.840000       86.240000   551.100000   \n",
              "75%      15.780000     21.800000      104.100000   782.700000   \n",
              "max      28.110000     39.280000      188.500000  2501.000000   \n",
              "\n",
              "       mean smoothness  mean compactness  mean concavity  mean concave points  \\\n",
              "count       569.000000        569.000000      569.000000           569.000000   \n",
              "mean          0.096360          0.104341        0.088799             0.048919   \n",
              "std           0.014064          0.052813        0.079720             0.038803   \n",
              "min           0.052630          0.019380        0.000000             0.000000   \n",
              "25%           0.086370          0.064920        0.029560             0.020310   \n",
              "50%           0.095870          0.092630        0.061540             0.033500   \n",
              "75%           0.105300          0.130400        0.130700             0.074000   \n",
              "max           0.163400          0.345400        0.426800             0.201200   \n",
              "\n",
              "       mean symmetry  mean fractal dimension  radius error  texture error  \\\n",
              "count     569.000000              569.000000    569.000000     569.000000   \n",
              "mean        0.181162                0.062798      0.405172       1.216853   \n",
              "std         0.027414                0.007060      0.277313       0.551648   \n",
              "min         0.106000                0.049960      0.111500       0.360200   \n",
              "25%         0.161900                0.057700      0.232400       0.833900   \n",
              "50%         0.179200                0.061540      0.324200       1.108000   \n",
              "75%         0.195700                0.066120      0.478900       1.474000   \n",
              "max         0.304000                0.097440      2.873000       4.885000   \n",
              "\n",
              "       perimeter error  area error  smoothness error  compactness error  \\\n",
              "count       569.000000  569.000000        569.000000         569.000000   \n",
              "mean          2.866059   40.337079          0.007041           0.025478   \n",
              "std           2.021855   45.491006          0.003003           0.017908   \n",
              "min           0.757000    6.802000          0.001713           0.002252   \n",
              "25%           1.606000   17.850000          0.005169           0.013080   \n",
              "50%           2.287000   24.530000          0.006380           0.020450   \n",
              "75%           3.357000   45.190000          0.008146           0.032450   \n",
              "max          21.980000  542.200000          0.031130           0.135400   \n",
              "\n",
              "       concavity error  concave points error  symmetry error  \\\n",
              "count       569.000000            569.000000      569.000000   \n",
              "mean          0.031894              0.011796        0.020542   \n",
              "std           0.030186              0.006170        0.008266   \n",
              "min           0.000000              0.000000        0.007882   \n",
              "25%           0.015090              0.007638        0.015160   \n",
              "50%           0.025890              0.010930        0.018730   \n",
              "75%           0.042050              0.014710        0.023480   \n",
              "max           0.396000              0.052790        0.078950   \n",
              "\n",
              "       fractal dimension error  worst radius  worst texture  worst perimeter  \\\n",
              "count               569.000000    569.000000     569.000000       569.000000   \n",
              "mean                  0.003795     16.269190      25.677223       107.261213   \n",
              "std                   0.002646      4.833242       6.146258        33.602542   \n",
              "min                   0.000895      7.930000      12.020000        50.410000   \n",
              "25%                   0.002248     13.010000      21.080000        84.110000   \n",
              "50%                   0.003187     14.970000      25.410000        97.660000   \n",
              "75%                   0.004558     18.790000      29.720000       125.400000   \n",
              "max                   0.029840     36.040000      49.540000       251.200000   \n",
              "\n",
              "        worst area  worst smoothness  worst compactness  worst concavity  \\\n",
              "count   569.000000        569.000000         569.000000       569.000000   \n",
              "mean    880.583128          0.132369           0.254265         0.272188   \n",
              "std     569.356993          0.022832           0.157336         0.208624   \n",
              "min     185.200000          0.071170           0.027290         0.000000   \n",
              "25%     515.300000          0.116600           0.147200         0.114500   \n",
              "50%     686.500000          0.131300           0.211900         0.226700   \n",
              "75%    1084.000000          0.146000           0.339100         0.382900   \n",
              "max    4254.000000          0.222600           1.058000         1.252000   \n",
              "\n",
              "       worst concave points  worst symmetry  worst fractal dimension  \n",
              "count            569.000000      569.000000               569.000000  \n",
              "mean               0.114606        0.290076                 0.083946  \n",
              "std                0.065732        0.061867                 0.018061  \n",
              "min                0.000000        0.156500                 0.055040  \n",
              "25%                0.064930        0.250400                 0.071460  \n",
              "50%                0.099930        0.282200                 0.080040  \n",
              "75%                0.161400        0.317900                 0.092080  \n",
              "max                0.291000        0.663800                 0.207500  "
            ],
            "text/html": [
              "\n",
              "  <div id=\"df-a5d41d7a-d119-443e-b9fe-127fafe97883\">\n",
              "    <div class=\"colab-df-container\">\n",
              "      <div>\n",
              "<style scoped>\n",
              "    .dataframe tbody tr th:only-of-type {\n",
              "        vertical-align: middle;\n",
              "    }\n",
              "\n",
              "    .dataframe tbody tr th {\n",
              "        vertical-align: top;\n",
              "    }\n",
              "\n",
              "    .dataframe thead th {\n",
              "        text-align: right;\n",
              "    }\n",
              "</style>\n",
              "<table border=\"1\" class=\"dataframe\">\n",
              "  <thead>\n",
              "    <tr style=\"text-align: right;\">\n",
              "      <th></th>\n",
              "      <th>mean radius</th>\n",
              "      <th>mean texture</th>\n",
              "      <th>mean perimeter</th>\n",
              "      <th>mean area</th>\n",
              "      <th>mean smoothness</th>\n",
              "      <th>mean compactness</th>\n",
              "      <th>mean concavity</th>\n",
              "      <th>mean concave points</th>\n",
              "      <th>mean symmetry</th>\n",
              "      <th>mean fractal dimension</th>\n",
              "      <th>radius error</th>\n",
              "      <th>texture error</th>\n",
              "      <th>perimeter error</th>\n",
              "      <th>area error</th>\n",
              "      <th>smoothness error</th>\n",
              "      <th>compactness error</th>\n",
              "      <th>concavity error</th>\n",
              "      <th>concave points error</th>\n",
              "      <th>symmetry error</th>\n",
              "      <th>fractal dimension error</th>\n",
              "      <th>worst radius</th>\n",
              "      <th>worst texture</th>\n",
              "      <th>worst perimeter</th>\n",
              "      <th>worst area</th>\n",
              "      <th>worst smoothness</th>\n",
              "      <th>worst compactness</th>\n",
              "      <th>worst concavity</th>\n",
              "      <th>worst concave points</th>\n",
              "      <th>worst symmetry</th>\n",
              "      <th>worst fractal dimension</th>\n",
              "    </tr>\n",
              "  </thead>\n",
              "  <tbody>\n",
              "    <tr>\n",
              "      <th>count</th>\n",
              "      <td>569.000000</td>\n",
              "      <td>569.000000</td>\n",
              "      <td>569.000000</td>\n",
              "      <td>569.000000</td>\n",
              "      <td>569.000000</td>\n",
              "      <td>569.000000</td>\n",
              "      <td>569.000000</td>\n",
              "      <td>569.000000</td>\n",
              "      <td>569.000000</td>\n",
              "      <td>569.000000</td>\n",
              "      <td>569.000000</td>\n",
              "      <td>569.000000</td>\n",
              "      <td>569.000000</td>\n",
              "      <td>569.000000</td>\n",
              "      <td>569.000000</td>\n",
              "      <td>569.000000</td>\n",
              "      <td>569.000000</td>\n",
              "      <td>569.000000</td>\n",
              "      <td>569.000000</td>\n",
              "      <td>569.000000</td>\n",
              "      <td>569.000000</td>\n",
              "      <td>569.000000</td>\n",
              "      <td>569.000000</td>\n",
              "      <td>569.000000</td>\n",
              "      <td>569.000000</td>\n",
              "      <td>569.000000</td>\n",
              "      <td>569.000000</td>\n",
              "      <td>569.000000</td>\n",
              "      <td>569.000000</td>\n",
              "      <td>569.000000</td>\n",
              "    </tr>\n",
              "    <tr>\n",
              "      <th>mean</th>\n",
              "      <td>14.127292</td>\n",
              "      <td>19.289649</td>\n",
              "      <td>91.969033</td>\n",
              "      <td>654.889104</td>\n",
              "      <td>0.096360</td>\n",
              "      <td>0.104341</td>\n",
              "      <td>0.088799</td>\n",
              "      <td>0.048919</td>\n",
              "      <td>0.181162</td>\n",
              "      <td>0.062798</td>\n",
              "      <td>0.405172</td>\n",
              "      <td>1.216853</td>\n",
              "      <td>2.866059</td>\n",
              "      <td>40.337079</td>\n",
              "      <td>0.007041</td>\n",
              "      <td>0.025478</td>\n",
              "      <td>0.031894</td>\n",
              "      <td>0.011796</td>\n",
              "      <td>0.020542</td>\n",
              "      <td>0.003795</td>\n",
              "      <td>16.269190</td>\n",
              "      <td>25.677223</td>\n",
              "      <td>107.261213</td>\n",
              "      <td>880.583128</td>\n",
              "      <td>0.132369</td>\n",
              "      <td>0.254265</td>\n",
              "      <td>0.272188</td>\n",
              "      <td>0.114606</td>\n",
              "      <td>0.290076</td>\n",
              "      <td>0.083946</td>\n",
              "    </tr>\n",
              "    <tr>\n",
              "      <th>std</th>\n",
              "      <td>3.524049</td>\n",
              "      <td>4.301036</td>\n",
              "      <td>24.298981</td>\n",
              "      <td>351.914129</td>\n",
              "      <td>0.014064</td>\n",
              "      <td>0.052813</td>\n",
              "      <td>0.079720</td>\n",
              "      <td>0.038803</td>\n",
              "      <td>0.027414</td>\n",
              "      <td>0.007060</td>\n",
              "      <td>0.277313</td>\n",
              "      <td>0.551648</td>\n",
              "      <td>2.021855</td>\n",
              "      <td>45.491006</td>\n",
              "      <td>0.003003</td>\n",
              "      <td>0.017908</td>\n",
              "      <td>0.030186</td>\n",
              "      <td>0.006170</td>\n",
              "      <td>0.008266</td>\n",
              "      <td>0.002646</td>\n",
              "      <td>4.833242</td>\n",
              "      <td>6.146258</td>\n",
              "      <td>33.602542</td>\n",
              "      <td>569.356993</td>\n",
              "      <td>0.022832</td>\n",
              "      <td>0.157336</td>\n",
              "      <td>0.208624</td>\n",
              "      <td>0.065732</td>\n",
              "      <td>0.061867</td>\n",
              "      <td>0.018061</td>\n",
              "    </tr>\n",
              "    <tr>\n",
              "      <th>min</th>\n",
              "      <td>6.981000</td>\n",
              "      <td>9.710000</td>\n",
              "      <td>43.790000</td>\n",
              "      <td>143.500000</td>\n",
              "      <td>0.052630</td>\n",
              "      <td>0.019380</td>\n",
              "      <td>0.000000</td>\n",
              "      <td>0.000000</td>\n",
              "      <td>0.106000</td>\n",
              "      <td>0.049960</td>\n",
              "      <td>0.111500</td>\n",
              "      <td>0.360200</td>\n",
              "      <td>0.757000</td>\n",
              "      <td>6.802000</td>\n",
              "      <td>0.001713</td>\n",
              "      <td>0.002252</td>\n",
              "      <td>0.000000</td>\n",
              "      <td>0.000000</td>\n",
              "      <td>0.007882</td>\n",
              "      <td>0.000895</td>\n",
              "      <td>7.930000</td>\n",
              "      <td>12.020000</td>\n",
              "      <td>50.410000</td>\n",
              "      <td>185.200000</td>\n",
              "      <td>0.071170</td>\n",
              "      <td>0.027290</td>\n",
              "      <td>0.000000</td>\n",
              "      <td>0.000000</td>\n",
              "      <td>0.156500</td>\n",
              "      <td>0.055040</td>\n",
              "    </tr>\n",
              "    <tr>\n",
              "      <th>25%</th>\n",
              "      <td>11.700000</td>\n",
              "      <td>16.170000</td>\n",
              "      <td>75.170000</td>\n",
              "      <td>420.300000</td>\n",
              "      <td>0.086370</td>\n",
              "      <td>0.064920</td>\n",
              "      <td>0.029560</td>\n",
              "      <td>0.020310</td>\n",
              "      <td>0.161900</td>\n",
              "      <td>0.057700</td>\n",
              "      <td>0.232400</td>\n",
              "      <td>0.833900</td>\n",
              "      <td>1.606000</td>\n",
              "      <td>17.850000</td>\n",
              "      <td>0.005169</td>\n",
              "      <td>0.013080</td>\n",
              "      <td>0.015090</td>\n",
              "      <td>0.007638</td>\n",
              "      <td>0.015160</td>\n",
              "      <td>0.002248</td>\n",
              "      <td>13.010000</td>\n",
              "      <td>21.080000</td>\n",
              "      <td>84.110000</td>\n",
              "      <td>515.300000</td>\n",
              "      <td>0.116600</td>\n",
              "      <td>0.147200</td>\n",
              "      <td>0.114500</td>\n",
              "      <td>0.064930</td>\n",
              "      <td>0.250400</td>\n",
              "      <td>0.071460</td>\n",
              "    </tr>\n",
              "    <tr>\n",
              "      <th>50%</th>\n",
              "      <td>13.370000</td>\n",
              "      <td>18.840000</td>\n",
              "      <td>86.240000</td>\n",
              "      <td>551.100000</td>\n",
              "      <td>0.095870</td>\n",
              "      <td>0.092630</td>\n",
              "      <td>0.061540</td>\n",
              "      <td>0.033500</td>\n",
              "      <td>0.179200</td>\n",
              "      <td>0.061540</td>\n",
              "      <td>0.324200</td>\n",
              "      <td>1.108000</td>\n",
              "      <td>2.287000</td>\n",
              "      <td>24.530000</td>\n",
              "      <td>0.006380</td>\n",
              "      <td>0.020450</td>\n",
              "      <td>0.025890</td>\n",
              "      <td>0.010930</td>\n",
              "      <td>0.018730</td>\n",
              "      <td>0.003187</td>\n",
              "      <td>14.970000</td>\n",
              "      <td>25.410000</td>\n",
              "      <td>97.660000</td>\n",
              "      <td>686.500000</td>\n",
              "      <td>0.131300</td>\n",
              "      <td>0.211900</td>\n",
              "      <td>0.226700</td>\n",
              "      <td>0.099930</td>\n",
              "      <td>0.282200</td>\n",
              "      <td>0.080040</td>\n",
              "    </tr>\n",
              "    <tr>\n",
              "      <th>75%</th>\n",
              "      <td>15.780000</td>\n",
              "      <td>21.800000</td>\n",
              "      <td>104.100000</td>\n",
              "      <td>782.700000</td>\n",
              "      <td>0.105300</td>\n",
              "      <td>0.130400</td>\n",
              "      <td>0.130700</td>\n",
              "      <td>0.074000</td>\n",
              "      <td>0.195700</td>\n",
              "      <td>0.066120</td>\n",
              "      <td>0.478900</td>\n",
              "      <td>1.474000</td>\n",
              "      <td>3.357000</td>\n",
              "      <td>45.190000</td>\n",
              "      <td>0.008146</td>\n",
              "      <td>0.032450</td>\n",
              "      <td>0.042050</td>\n",
              "      <td>0.014710</td>\n",
              "      <td>0.023480</td>\n",
              "      <td>0.004558</td>\n",
              "      <td>18.790000</td>\n",
              "      <td>29.720000</td>\n",
              "      <td>125.400000</td>\n",
              "      <td>1084.000000</td>\n",
              "      <td>0.146000</td>\n",
              "      <td>0.339100</td>\n",
              "      <td>0.382900</td>\n",
              "      <td>0.161400</td>\n",
              "      <td>0.317900</td>\n",
              "      <td>0.092080</td>\n",
              "    </tr>\n",
              "    <tr>\n",
              "      <th>max</th>\n",
              "      <td>28.110000</td>\n",
              "      <td>39.280000</td>\n",
              "      <td>188.500000</td>\n",
              "      <td>2501.000000</td>\n",
              "      <td>0.163400</td>\n",
              "      <td>0.345400</td>\n",
              "      <td>0.426800</td>\n",
              "      <td>0.201200</td>\n",
              "      <td>0.304000</td>\n",
              "      <td>0.097440</td>\n",
              "      <td>2.873000</td>\n",
              "      <td>4.885000</td>\n",
              "      <td>21.980000</td>\n",
              "      <td>542.200000</td>\n",
              "      <td>0.031130</td>\n",
              "      <td>0.135400</td>\n",
              "      <td>0.396000</td>\n",
              "      <td>0.052790</td>\n",
              "      <td>0.078950</td>\n",
              "      <td>0.029840</td>\n",
              "      <td>36.040000</td>\n",
              "      <td>49.540000</td>\n",
              "      <td>251.200000</td>\n",
              "      <td>4254.000000</td>\n",
              "      <td>0.222600</td>\n",
              "      <td>1.058000</td>\n",
              "      <td>1.252000</td>\n",
              "      <td>0.291000</td>\n",
              "      <td>0.663800</td>\n",
              "      <td>0.207500</td>\n",
              "    </tr>\n",
              "  </tbody>\n",
              "</table>\n",
              "</div>\n",
              "      <button class=\"colab-df-convert\" onclick=\"convertToInteractive('df-a5d41d7a-d119-443e-b9fe-127fafe97883')\"\n",
              "              title=\"Convert this dataframe to an interactive table.\"\n",
              "              style=\"display:none;\">\n",
              "        \n",
              "  <svg xmlns=\"http://www.w3.org/2000/svg\" height=\"24px\"viewBox=\"0 0 24 24\"\n",
              "       width=\"24px\">\n",
              "    <path d=\"M0 0h24v24H0V0z\" fill=\"none\"/>\n",
              "    <path d=\"M18.56 5.44l.94 2.06.94-2.06 2.06-.94-2.06-.94-.94-2.06-.94 2.06-2.06.94zm-11 1L8.5 8.5l.94-2.06 2.06-.94-2.06-.94L8.5 2.5l-.94 2.06-2.06.94zm10 10l.94 2.06.94-2.06 2.06-.94-2.06-.94-.94-2.06-.94 2.06-2.06.94z\"/><path d=\"M17.41 7.96l-1.37-1.37c-.4-.4-.92-.59-1.43-.59-.52 0-1.04.2-1.43.59L10.3 9.45l-7.72 7.72c-.78.78-.78 2.05 0 2.83L4 21.41c.39.39.9.59 1.41.59.51 0 1.02-.2 1.41-.59l7.78-7.78 2.81-2.81c.8-.78.8-2.07 0-2.86zM5.41 20L4 18.59l7.72-7.72 1.47 1.35L5.41 20z\"/>\n",
              "  </svg>\n",
              "      </button>\n",
              "      \n",
              "  <style>\n",
              "    .colab-df-container {\n",
              "      display:flex;\n",
              "      flex-wrap:wrap;\n",
              "      gap: 12px;\n",
              "    }\n",
              "\n",
              "    .colab-df-convert {\n",
              "      background-color: #E8F0FE;\n",
              "      border: none;\n",
              "      border-radius: 50%;\n",
              "      cursor: pointer;\n",
              "      display: none;\n",
              "      fill: #1967D2;\n",
              "      height: 32px;\n",
              "      padding: 0 0 0 0;\n",
              "      width: 32px;\n",
              "    }\n",
              "\n",
              "    .colab-df-convert:hover {\n",
              "      background-color: #E2EBFA;\n",
              "      box-shadow: 0px 1px 2px rgba(60, 64, 67, 0.3), 0px 1px 3px 1px rgba(60, 64, 67, 0.15);\n",
              "      fill: #174EA6;\n",
              "    }\n",
              "\n",
              "    [theme=dark] .colab-df-convert {\n",
              "      background-color: #3B4455;\n",
              "      fill: #D2E3FC;\n",
              "    }\n",
              "\n",
              "    [theme=dark] .colab-df-convert:hover {\n",
              "      background-color: #434B5C;\n",
              "      box-shadow: 0px 1px 3px 1px rgba(0, 0, 0, 0.15);\n",
              "      filter: drop-shadow(0px 1px 2px rgba(0, 0, 0, 0.3));\n",
              "      fill: #FFFFFF;\n",
              "    }\n",
              "  </style>\n",
              "\n",
              "      <script>\n",
              "        const buttonEl =\n",
              "          document.querySelector('#df-a5d41d7a-d119-443e-b9fe-127fafe97883 button.colab-df-convert');\n",
              "        buttonEl.style.display =\n",
              "          google.colab.kernel.accessAllowed ? 'block' : 'none';\n",
              "\n",
              "        async function convertToInteractive(key) {\n",
              "          const element = document.querySelector('#df-a5d41d7a-d119-443e-b9fe-127fafe97883');\n",
              "          const dataTable =\n",
              "            await google.colab.kernel.invokeFunction('convertToInteractive',\n",
              "                                                     [key], {});\n",
              "          if (!dataTable) return;\n",
              "\n",
              "          const docLinkHtml = 'Like what you see? Visit the ' +\n",
              "            '<a target=\"_blank\" href=https://colab.research.google.com/notebooks/data_table.ipynb>data table notebook</a>'\n",
              "            + ' to learn more about interactive tables.';\n",
              "          element.innerHTML = '';\n",
              "          dataTable['output_type'] = 'display_data';\n",
              "          await google.colab.output.renderOutput(dataTable, element);\n",
              "          const docLink = document.createElement('div');\n",
              "          docLink.innerHTML = docLinkHtml;\n",
              "          element.appendChild(docLink);\n",
              "        }\n",
              "      </script>\n",
              "    </div>\n",
              "  </div>\n",
              "  "
            ]
          },
          "metadata": {},
          "execution_count": 11
        }
      ],
      "source": [
        "data.select_dtypes('float').describe()"
      ]
    },
    {
      "cell_type": "markdown",
      "source": [
        "Pasemos a analizar la clase. La clase es de tipo binaria: toma el valor 0 si el cáncer es maligno, y 1 si es benigno. Consideramos esta variable categórica."
      ],
      "metadata": {
        "id": "ez9dC1DiAhHG"
      }
    },
    {
      "cell_type": "code",
      "source": [
        "d.target_names"
      ],
      "metadata": {
        "colab": {
          "base_uri": "https://localhost:8080/"
        },
        "id": "QVvnbvVHAqmG",
        "outputId": "e14192ea-e02e-4fac-a0e3-4e1c2c692ce0"
      },
      "execution_count": null,
      "outputs": [
        {
          "output_type": "execute_result",
          "data": {
            "text/plain": [
              "array(['malignant', 'benign'], dtype='<U9')"
            ]
          },
          "metadata": {},
          "execution_count": 13
        }
      ]
    },
    {
      "cell_type": "code",
      "source": [
        "data['Diagnosis'].value_counts()"
      ],
      "metadata": {
        "colab": {
          "base_uri": "https://localhost:8080/"
        },
        "id": "NSKP8elB7ZlL",
        "outputId": "39fecbed-f79e-4061-d1f2-8a6d9a46d32a"
      },
      "execution_count": null,
      "outputs": [
        {
          "output_type": "execute_result",
          "data": {
            "text/plain": [
              "1    357\n",
              "0    212\n",
              "Name: Diagnosis, dtype: int64"
            ]
          },
          "metadata": {},
          "execution_count": 13
        }
      ]
    },
    {
      "cell_type": "markdown",
      "source": [
        "212 muestras pertenecen a tumores malignos, y 357 a benignos."
      ],
      "metadata": {
        "id": "fKdB52yA5dsz"
      }
    },
    {
      "cell_type": "markdown",
      "metadata": {
        "id": "nLvD9Mh8uSMf"
      },
      "source": [
        "## 2.2 Análisis exploratorio de los datos (3 puntos)"
      ]
    },
    {
      "cell_type": "markdown",
      "metadata": {
        "id": "1DFCUuB8uSMf"
      },
      "source": [
        "En este ejercicio vas a explorar la relación de algunos de los atributos numéricos con la variable respuesta (\"Diagnosis\"), tanto gráficamente como cuantitativamente. Para empezar, selecciona los 4 atributos que deseas explorar. Si has usado los nombres de columnas proporcionados por sklearn, una lista de posibles nombres de atributos serían:"
      ]
    },
    {
      "cell_type": "code",
      "execution_count": null,
      "metadata": {
        "id": "2Id6mHBbuSMg"
      },
      "outputs": [],
      "source": [
        "feats_to_explore = ['mean radius', 'mean texture', 'mean smoothness', 'mean symmetry']"
      ]
    },
    {
      "cell_type": "markdown",
      "metadata": {
        "id": "0_w23FN8uSMg"
      },
      "source": [
        "<div style=\"background-color: #EDF7FF; border-color: #7C9DBF; border-left: 5px solid #7C9DBF; padding: 0.5em;\">\n",
        "<strong>Implementación:</strong> Utilizando una librería gráfica, como por ejemplo \"matplotlib\", realiza un gráfico del histograma de valores para cada uno de los atributos seleccionados, separados por los valores de clase de la respuesta (\"Diagnosis\"). La finalidad es que observes como se distribuye cada uno de los atributos en función del valor de clase que toman, para poder identificar de forma visual y rápida si algunos atributos permiten diferenciar de forma clara los diferentes diagnósticos de los tumores.\n",
        "</div>"
      ]
    },
    {
      "cell_type": "markdown",
      "source": [
        "Vamos a mostrar la distribución de las cuatro variables del array *feats_to_explore*, para evaluar cómo varía en función del valor de la clase:"
      ],
      "metadata": {
        "id": "sTZGwow_R5At"
      }
    },
    {
      "cell_type": "code",
      "metadata": {
        "_cell_guid": "50294eac-263a-af78-cb7e-3778eb9ad41f",
        "_uuid": "d3a1fa63e9dd4f8a810086530a6363c94b36d030",
        "collapsed": true,
        "id": "OHTnrwR5E9aM",
        "colab": {
          "base_uri": "https://localhost:8080/",
          "height": 242
        },
        "outputId": "a189a6e8-62c9-4123-bc2c-73bed66ba5e0"
      },
      "source": [
        "g = sns.FacetGrid(data, col='Diagnosis')\n",
        "g.map(sns.histplot,feats_to_explore[0])"
      ],
      "execution_count": null,
      "outputs": [
        {
          "output_type": "execute_result",
          "data": {
            "text/plain": [
              "<seaborn.axisgrid.FacetGrid at 0x7fb5f1772690>"
            ]
          },
          "metadata": {},
          "execution_count": 15
        },
        {
          "output_type": "display_data",
          "data": {
            "text/plain": [
              "<Figure size 432x216 with 2 Axes>"
            ],
            "image/png": "[encoded data removed]"
          },
          "metadata": {
            "needs_background": "light"
          }
        }
      ]
    },
    {
      "cell_type": "code",
      "source": [
        "g = sns.FacetGrid(data, col='Diagnosis')\n",
        "g.map(sns.histplot,feats_to_explore[1])\n"
      ],
      "metadata": {
        "colab": {
          "base_uri": "https://localhost:8080/",
          "height": 242
        },
        "id": "_5lqEI4hCOWy",
        "outputId": "e748e237-724f-44ca-e74d-fa57aa069ea5"
      },
      "execution_count": null,
      "outputs": [
        {
          "output_type": "execute_result",
          "data": {
            "text/plain": [
              "<seaborn.axisgrid.FacetGrid at 0x7fb5f1772390>"
            ]
          },
          "metadata": {},
          "execution_count": 16
        },
        {
          "output_type": "display_data",
          "data": {
            "text/plain": [
              "<Figure size 432x216 with 2 Axes>"
            ],
            "image/png": "[encoded data removed]"
          },
          "metadata": {
            "needs_background": "light"
          }
        }
      ]
    },
    {
      "cell_type": "code",
      "source": [
        "g = sns.FacetGrid(data, col='Diagnosis')\n",
        "g.map(sns.histplot,feats_to_explore[2])\n"
      ],
      "metadata": {
        "colab": {
          "base_uri": "https://localhost:8080/",
          "height": 242
        },
        "id": "lE8i2odmCORI",
        "outputId": "fdd42a4f-d2f7-45ef-c357-b8ca83e031a4"
      },
      "execution_count": null,
      "outputs": [
        {
          "output_type": "execute_result",
          "data": {
            "text/plain": [
              "<seaborn.axisgrid.FacetGrid at 0x7fb5ee823ad0>"
            ]
          },
          "metadata": {},
          "execution_count": 17
        },
        {
          "output_type": "display_data",
          "data": {
            "text/plain": [
              "<Figure size 432x216 with 2 Axes>"
            ],
            "image/png": "[encoded data removed]"
          },
          "metadata": {
            "needs_background": "light"
          }
        }
      ]
    },
    {
      "cell_type": "code",
      "source": [
        "g = sns.FacetGrid(data, col='Diagnosis')\n",
        "g.map(sns.histplot,feats_to_explore[3])\n"
      ],
      "metadata": {
        "colab": {
          "base_uri": "https://localhost:8080/",
          "height": 242
        },
        "id": "QVCcuXpiCON9",
        "outputId": "d9245c64-ec1d-462a-8628-fd819a9f62d3"
      },
      "execution_count": null,
      "outputs": [
        {
          "output_type": "execute_result",
          "data": {
            "text/plain": [
              "<seaborn.axisgrid.FacetGrid at 0x7fb5ee6cd310>"
            ]
          },
          "metadata": {},
          "execution_count": 18
        },
        {
          "output_type": "display_data",
          "data": {
            "text/plain": [
              "<Figure size 432x216 with 2 Axes>"
            ],
            "image/png": "[encoded data removed]"
          },
          "metadata": {
            "needs_background": "light"
          }
        }
      ]
    },
    {
      "cell_type": "markdown",
      "source": [
        "Podemos observar que, para las cuatro variables, la distribución cambia según el valor de la clase. Para la clase 1, podemos observar que los atributos presentan una distribución asimétrica hacia la izquierda. En cambio, para el valor 0 presentan una distribución más simétrica."
      ],
      "metadata": {
        "id": "3FdugpU3SQRU"
      }
    },
    {
      "cell_type": "markdown",
      "metadata": {
        "id": "NZDXRCsUuSMh"
      },
      "source": [
        "<div style=\"background-color: #EDF7FF; border-color: #7C9DBF; border-left: 5px solid #7C9DBF; padding: 0.5em;\">\n",
        "<strong>Implementación:</strong> Para cada uno de los atributos representados en el ejercicio anterior, muestra la media y la desviación estándard para cada valor de clase de la respuesta (\"Diagnosis\"). La finalidad es que verifiques numéricamente las diferencias identificadas anteriormente de forma visual.\n",
        "</div>"
      ]
    },
    {
      "cell_type": "code",
      "execution_count": null,
      "metadata": {
        "id": "yUIEqRtSuSMh",
        "colab": {
          "base_uri": "https://localhost:8080/",
          "height": 239
        },
        "outputId": "94d96342-c02a-446f-ed09-4419d5abf8fa"
      },
      "outputs": [
        {
          "output_type": "execute_result",
          "data": {
            "text/plain": [
              "          mean radius                                                      \\\n",
              "                count       mean       std     min     25%     50%    75%   \n",
              "Diagnosis                                                                   \n",
              "0               212.0  17.462830  3.203971  10.950  15.075  17.325  19.59   \n",
              "1               357.0  12.146524  1.780512   6.981  11.080  12.200  13.37   \n",
              "\n",
              "                 mean texture                                              \\\n",
              "             max        count       mean       std    min      25%    50%   \n",
              "Diagnosis                                                                   \n",
              "0          28.11        212.0  21.604906  3.779470  10.38  19.3275  21.46   \n",
              "1          17.85        357.0  17.914762  3.995125   9.71  15.1500  17.39   \n",
              "\n",
              "                         mean smoothness                               \\\n",
              "              75%    max           count      mean       std      min   \n",
              "Diagnosis                                                               \n",
              "0          23.765  39.28           212.0  0.102898  0.012608  0.07371   \n",
              "1          19.760  33.81           357.0  0.092478  0.013446  0.05263   \n",
              "\n",
              "                                              mean symmetry            \\\n",
              "               25%      50%       75%     max         count      mean   \n",
              "Diagnosis                                                               \n",
              "0          0.09401  0.10220  0.110925  0.1447         212.0  0.192909   \n",
              "1          0.08306  0.09076  0.100700  0.1634         357.0  0.174186   \n",
              "\n",
              "                                                               \n",
              "                std     min      25%     50%      75%     max  \n",
              "Diagnosis                                                      \n",
              "0          0.027638  0.1308  0.17405  0.1899  0.20985  0.3040  \n",
              "1          0.024807  0.1060  0.15800  0.1714  0.18900  0.2743  "
            ],
            "text/html": [
              "\n",
              "  <div id=\"df-fa6c2af3-4231-4c5e-8e11-d64f7158f8cb\">\n",
              "    <div class=\"colab-df-container\">\n",
              "      <div>\n",
              "<style scoped>\n",
              "    .dataframe tbody tr th:only-of-type {\n",
              "        vertical-align: middle;\n",
              "    }\n",
              "\n",
              "    .dataframe tbody tr th {\n",
              "        vertical-align: top;\n",
              "    }\n",
              "\n",
              "    .dataframe thead tr th {\n",
              "        text-align: left;\n",
              "    }\n",
              "\n",
              "    .dataframe thead tr:last-of-type th {\n",
              "        text-align: right;\n",
              "    }\n",
              "</style>\n",
              "<table border=\"1\" class=\"dataframe\">\n",
              "  <thead>\n",
              "    <tr>\n",
              "      <th></th>\n",
              "      <th colspan=\"8\" halign=\"left\">mean radius</th>\n",
              "      <th colspan=\"8\" halign=\"left\">mean texture</th>\n",
              "      <th colspan=\"8\" halign=\"left\">mean smoothness</th>\n",
              "      <th colspan=\"8\" halign=\"left\">mean symmetry</th>\n",
              "    </tr>\n",
              "    <tr>\n",
              "      <th></th>\n",
              "      <th>count</th>\n",
              "      <th>mean</th>\n",
              "      <th>std</th>\n",
              "      <th>min</th>\n",
              "      <th>25%</th>\n",
              "      <th>50%</th>\n",
              "      <th>75%</th>\n",
              "      <th>max</th>\n",
              "      <th>count</th>\n",
              "      <th>mean</th>\n",
              "      <th>std</th>\n",
              "      <th>min</th>\n",
              "      <th>25%</th>\n",
              "      <th>50%</th>\n",
              "      <th>75%</th>\n",
              "      <th>max</th>\n",
              "      <th>count</th>\n",
              "      <th>mean</th>\n",
              "      <th>std</th>\n",
              "      <th>min</th>\n",
              "      <th>25%</th>\n",
              "      <th>50%</th>\n",
              "      <th>75%</th>\n",
              "      <th>max</th>\n",
              "      <th>count</th>\n",
              "      <th>mean</th>\n",
              "      <th>std</th>\n",
              "      <th>min</th>\n",
              "      <th>25%</th>\n",
              "      <th>50%</th>\n",
              "      <th>75%</th>\n",
              "      <th>max</th>\n",
              "    </tr>\n",
              "    <tr>\n",
              "      <th>Diagnosis</th>\n",
              "      <th></th>\n",
              "      <th></th>\n",
              "      <th></th>\n",
              "      <th></th>\n",
              "      <th></th>\n",
              "      <th></th>\n",
              "      <th></th>\n",
              "      <th></th>\n",
              "      <th></th>\n",
              "      <th></th>\n",
              "      <th></th>\n",
              "      <th></th>\n",
              "      <th></th>\n",
              "      <th></th>\n",
              "      <th></th>\n",
              "      <th></th>\n",
              "      <th></th>\n",
              "      <th></th>\n",
              "      <th></th>\n",
              "      <th></th>\n",
              "      <th></th>\n",
              "      <th></th>\n",
              "      <th></th>\n",
              "      <th></th>\n",
              "      <th></th>\n",
              "      <th></th>\n",
              "      <th></th>\n",
              "      <th></th>\n",
              "      <th></th>\n",
              "      <th></th>\n",
              "      <th></th>\n",
              "      <th></th>\n",
              "    </tr>\n",
              "  </thead>\n",
              "  <tbody>\n",
              "    <tr>\n",
              "      <th>0</th>\n",
              "      <td>212.0</td>\n",
              "      <td>17.462830</td>\n",
              "      <td>3.203971</td>\n",
              "      <td>10.950</td>\n",
              "      <td>15.075</td>\n",
              "      <td>17.325</td>\n",
              "      <td>19.59</td>\n",
              "      <td>28.11</td>\n",
              "      <td>212.0</td>\n",
              "      <td>21.604906</td>\n",
              "      <td>3.779470</td>\n",
              "      <td>10.38</td>\n",
              "      <td>19.3275</td>\n",
              "      <td>21.46</td>\n",
              "      <td>23.765</td>\n",
              "      <td>39.28</td>\n",
              "      <td>212.0</td>\n",
              "      <td>0.102898</td>\n",
              "      <td>0.012608</td>\n",
              "      <td>0.07371</td>\n",
              "      <td>0.09401</td>\n",
              "      <td>0.10220</td>\n",
              "      <td>0.110925</td>\n",
              "      <td>0.1447</td>\n",
              "      <td>212.0</td>\n",
              "      <td>0.192909</td>\n",
              "      <td>0.027638</td>\n",
              "      <td>0.1308</td>\n",
              "      <td>0.17405</td>\n",
              "      <td>0.1899</td>\n",
              "      <td>0.20985</td>\n",
              "      <td>0.3040</td>\n",
              "    </tr>\n",
              "    <tr>\n",
              "      <th>1</th>\n",
              "      <td>357.0</td>\n",
              "      <td>12.146524</td>\n",
              "      <td>1.780512</td>\n",
              "      <td>6.981</td>\n",
              "      <td>11.080</td>\n",
              "      <td>12.200</td>\n",
              "      <td>13.37</td>\n",
              "      <td>17.85</td>\n",
              "      <td>357.0</td>\n",
              "      <td>17.914762</td>\n",
              "      <td>3.995125</td>\n",
              "      <td>9.71</td>\n",
              "      <td>15.1500</td>\n",
              "      <td>17.39</td>\n",
              "      <td>19.760</td>\n",
              "      <td>33.81</td>\n",
              "      <td>357.0</td>\n",
              "      <td>0.092478</td>\n",
              "      <td>0.013446</td>\n",
              "      <td>0.05263</td>\n",
              "      <td>0.08306</td>\n",
              "      <td>0.09076</td>\n",
              "      <td>0.100700</td>\n",
              "      <td>0.1634</td>\n",
              "      <td>357.0</td>\n",
              "      <td>0.174186</td>\n",
              "      <td>0.024807</td>\n",
              "      <td>0.1060</td>\n",
              "      <td>0.15800</td>\n",
              "      <td>0.1714</td>\n",
              "      <td>0.18900</td>\n",
              "      <td>0.2743</td>\n",
              "    </tr>\n",
              "  </tbody>\n",
              "</table>\n",
              "</div>\n",
              "      <button class=\"colab-df-convert\" onclick=\"convertToInteractive('df-fa6c2af3-4231-4c5e-8e11-d64f7158f8cb')\"\n",
              "              title=\"Convert this dataframe to an interactive table.\"\n",
              "              style=\"display:none;\">\n",
              "        \n",
              "  <svg xmlns=\"http://www.w3.org/2000/svg\" height=\"24px\"viewBox=\"0 0 24 24\"\n",
              "       width=\"24px\">\n",
              "    <path d=\"M0 0h24v24H0V0z\" fill=\"none\"/>\n",
              "    <path d=\"M18.56 5.44l.94 2.06.94-2.06 2.06-.94-2.06-.94-.94-2.06-.94 2.06-2.06.94zm-11 1L8.5 8.5l.94-2.06 2.06-.94-2.06-.94L8.5 2.5l-.94 2.06-2.06.94zm10 10l.94 2.06.94-2.06 2.06-.94-2.06-.94-.94-2.06-.94 2.06-2.06.94z\"/><path d=\"M17.41 7.96l-1.37-1.37c-.4-.4-.92-.59-1.43-.59-.52 0-1.04.2-1.43.59L10.3 9.45l-7.72 7.72c-.78.78-.78 2.05 0 2.83L4 21.41c.39.39.9.59 1.41.59.51 0 1.02-.2 1.41-.59l7.78-7.78 2.81-2.81c.8-.78.8-2.07 0-2.86zM5.41 20L4 18.59l7.72-7.72 1.47 1.35L5.41 20z\"/>\n",
              "  </svg>\n",
              "      </button>\n",
              "      \n",
              "  <style>\n",
              "    .colab-df-container {\n",
              "      display:flex;\n",
              "      flex-wrap:wrap;\n",
              "      gap: 12px;\n",
              "    }\n",
              "\n",
              "    .colab-df-convert {\n",
              "      background-color: #E8F0FE;\n",
              "      border: none;\n",
              "      border-radius: 50%;\n",
              "      cursor: pointer;\n",
              "      display: none;\n",
              "      fill: #1967D2;\n",
              "      height: 32px;\n",
              "      padding: 0 0 0 0;\n",
              "      width: 32px;\n",
              "    }\n",
              "\n",
              "    .colab-df-convert:hover {\n",
              "      background-color: #E2EBFA;\n",
              "      box-shadow: 0px 1px 2px rgba(60, 64, 67, 0.3), 0px 1px 3px 1px rgba(60, 64, 67, 0.15);\n",
              "      fill: #174EA6;\n",
              "    }\n",
              "\n",
              "    [theme=dark] .colab-df-convert {\n",
              "      background-color: #3B4455;\n",
              "      fill: #D2E3FC;\n",
              "    }\n",
              "\n",
              "    [theme=dark] .colab-df-convert:hover {\n",
              "      background-color: #434B5C;\n",
              "      box-shadow: 0px 1px 3px 1px rgba(0, 0, 0, 0.15);\n",
              "      filter: drop-shadow(0px 1px 2px rgba(0, 0, 0, 0.3));\n",
              "      fill: #FFFFFF;\n",
              "    }\n",
              "  </style>\n",
              "\n",
              "      <script>\n",
              "        const buttonEl =\n",
              "          document.querySelector('#df-fa6c2af3-4231-4c5e-8e11-d64f7158f8cb button.colab-df-convert');\n",
              "        buttonEl.style.display =\n",
              "          google.colab.kernel.accessAllowed ? 'block' : 'none';\n",
              "\n",
              "        async function convertToInteractive(key) {\n",
              "          const element = document.querySelector('#df-fa6c2af3-4231-4c5e-8e11-d64f7158f8cb');\n",
              "          const dataTable =\n",
              "            await google.colab.kernel.invokeFunction('convertToInteractive',\n",
              "                                                     [key], {});\n",
              "          if (!dataTable) return;\n",
              "\n",
              "          const docLinkHtml = 'Like what you see? Visit the ' +\n",
              "            '<a target=\"_blank\" href=https://colab.research.google.com/notebooks/data_table.ipynb>data table notebook</a>'\n",
              "            + ' to learn more about interactive tables.';\n",
              "          element.innerHTML = '';\n",
              "          dataTable['output_type'] = 'display_data';\n",
              "          await google.colab.output.renderOutput(dataTable, element);\n",
              "          const docLink = document.createElement('div');\n",
              "          docLink.innerHTML = docLinkHtml;\n",
              "          element.appendChild(docLink);\n",
              "        }\n",
              "      </script>\n",
              "    </div>\n",
              "  </div>\n",
              "  "
            ]
          },
          "metadata": {},
          "execution_count": 19
        }
      ],
      "source": [
        "data.groupby('Diagnosis')[feats_to_explore].describe()"
      ]
    },
    {
      "cell_type": "markdown",
      "metadata": {
        "id": "Gb-9tsAmuSMi"
      },
      "source": [
        "<div style=\"background-color: #EDF7FF; border-color: #7C9DBF; border-left: 5px solid #7C9DBF; padding: 0.5em;\">\n",
        "<strong>Análisis:</strong>\n",
        "\n",
        "<br> - Mirando los gráficos, ¿qué atributos te parecen que tienen valores claramente diferentes para diagnósticos benignos y malignos? ¿Qué atributos no?\n",
        "\n",
        "Mirando la gráfica, podemos observar que las variables 'mean radius' (radio medio) y 'mean texture' (textura media) presentan mayores diferencias. Podemos observar que, para los tumores benignos, tenemos una distribución asimétrica hacia la izquierda. Esto significa que la mayoría de tumores tienen un valor bajo para estas variables. En cambio, para las otras variables podemos observar que comparten valores más similares para tumores malignos y benignos\n",
        "\n",
        "<br> - Mirando a los valores medios y desviaciones estándard calculadas, ¿te parecen significativas las diferencias para diagnósticos benignos y malignos?\n",
        "\n",
        "Mirando los valores medios y desviaciones, podemos verificar que lo que habíamos observado gráficamente se cumple: 'mean radius' y 'mean texture' van a ser relevantes para la clasificación de tumores. Sobre todo, la variable que más difiere es mean radius. \n",
        "</div>"
      ]
    },
    {
      "cell_type": "markdown",
      "metadata": {
        "id": "V4FA7ldyuSMi"
      },
      "source": [
        "# 3. Reducción de dimensionalidad (2 puntos)\n",
        "\n",
        "En este ejercicio debes aplicar métodos de reducción de dimensionalidad al conjunto original de datos. El objetivo es reducir el conjunto de atributos a un nuevo conjunto con menos dimensiones."
      ]
    },
    {
      "cell_type": "markdown",
      "metadata": {
        "id": "jMXKYVxtuSMi"
      },
      "source": [
        "<div style=\"background-color: #EDF7FF; border-color: #7C9DBF; border-left: 5px solid #7C9DBF; padding: 0.5em;\">\n",
        "<strong>Implementación:</strong> Aplicad los métodos de reducción de dimensionalidad:\n",
        "<br>- Principal Component Analysis (PCA)\n",
        "<br>- t-distributed Stochastic Neighbor Embedding (t-SNE)\n",
        "<br>para reducir el conjunto de datos a 2 dimensiones.\n",
        "\n",
        "<hr>\n",
        "Sugerencia: No es necesario que programes los algoritmos, debes de hacer uso de las implementaciones disponibles en la librería \"scikit-learn\".\n",
        "</div>"
      ]
    },
    {
      "cell_type": "code",
      "source": [
        "#Separamos la clase y los atributos (x e y)\n",
        "x=data.drop('Diagnosis', axis=1)\n",
        "y = pd.DataFrame({'target':data['Diagnosis'][:]})"
      ],
      "metadata": {
        "id": "oTZ5sybYR_pV"
      },
      "execution_count": null,
      "outputs": []
    },
    {
      "cell_type": "markdown",
      "source": [
        "**1. PCA**"
      ],
      "metadata": {
        "id": "wEbjjG49VUqC"
      }
    },
    {
      "cell_type": "code",
      "execution_count": null,
      "metadata": {
        "id": "WnYRN5f4uSMj"
      },
      "outputs": [],
      "source": [
        "x_scaled = StandardScaler().fit_transform(x) #normalizamos los valores porque tenían distintas magnitudes\n",
        "pca = PCA(n_components=2, random_state=8)#seleccionamos 2 componentes\n",
        "principalComponents = pca.fit_transform(x_scaled)\n",
        "X_PCA = pd.DataFrame(data = principalComponents, columns = ['principal component 1', 'principal component 2'])"
      ]
    },
    {
      "cell_type": "code",
      "source": [
        "df = pd.concat([X_PCA, y], axis = 1)"
      ],
      "metadata": {
        "id": "Hl87KxkISWgM"
      },
      "execution_count": null,
      "outputs": []
    },
    {
      "cell_type": "code",
      "source": [
        "df.head()"
      ],
      "metadata": {
        "colab": {
          "base_uri": "https://localhost:8080/",
          "height": 206
        },
        "id": "BoF6hJvvVZpO",
        "outputId": "b9304326-7e89-4535-b7f6-0556e73dcc93"
      },
      "execution_count": null,
      "outputs": [
        {
          "output_type": "execute_result",
          "data": {
            "text/plain": [
              "   principal component 1  principal component 2  target\n",
              "0               9.192837               1.948583       0\n",
              "1               2.387802              -3.768172       0\n",
              "2               5.733896              -1.075174       0\n",
              "3               7.122953              10.275589       0\n",
              "4               3.935302              -1.948072       0"
            ],
            "text/html": [
              "\n",
              "  <div id=\"df-f8e02c9b-5aa6-4d1c-acee-ffdb2cfe13e8\">\n",
              "    <div class=\"colab-df-container\">\n",
              "      <div>\n",
              "<style scoped>\n",
              "    .dataframe tbody tr th:only-of-type {\n",
              "        vertical-align: middle;\n",
              "    }\n",
              "\n",
              "    .dataframe tbody tr th {\n",
              "        vertical-align: top;\n",
              "    }\n",
              "\n",
              "    .dataframe thead th {\n",
              "        text-align: right;\n",
              "    }\n",
              "</style>\n",
              "<table border=\"1\" class=\"dataframe\">\n",
              "  <thead>\n",
              "    <tr style=\"text-align: right;\">\n",
              "      <th></th>\n",
              "      <th>principal component 1</th>\n",
              "      <th>principal component 2</th>\n",
              "      <th>target</th>\n",
              "    </tr>\n",
              "  </thead>\n",
              "  <tbody>\n",
              "    <tr>\n",
              "      <th>0</th>\n",
              "      <td>9.192837</td>\n",
              "      <td>1.948583</td>\n",
              "      <td>0</td>\n",
              "    </tr>\n",
              "    <tr>\n",
              "      <th>1</th>\n",
              "      <td>2.387802</td>\n",
              "      <td>-3.768172</td>\n",
              "      <td>0</td>\n",
              "    </tr>\n",
              "    <tr>\n",
              "      <th>2</th>\n",
              "      <td>5.733896</td>\n",
              "      <td>-1.075174</td>\n",
              "      <td>0</td>\n",
              "    </tr>\n",
              "    <tr>\n",
              "      <th>3</th>\n",
              "      <td>7.122953</td>\n",
              "      <td>10.275589</td>\n",
              "      <td>0</td>\n",
              "    </tr>\n",
              "    <tr>\n",
              "      <th>4</th>\n",
              "      <td>3.935302</td>\n",
              "      <td>-1.948072</td>\n",
              "      <td>0</td>\n",
              "    </tr>\n",
              "  </tbody>\n",
              "</table>\n",
              "</div>\n",
              "      <button class=\"colab-df-convert\" onclick=\"convertToInteractive('df-f8e02c9b-5aa6-4d1c-acee-ffdb2cfe13e8')\"\n",
              "              title=\"Convert this dataframe to an interactive table.\"\n",
              "              style=\"display:none;\">\n",
              "        \n",
              "  <svg xmlns=\"http://www.w3.org/2000/svg\" height=\"24px\"viewBox=\"0 0 24 24\"\n",
              "       width=\"24px\">\n",
              "    <path d=\"M0 0h24v24H0V0z\" fill=\"none\"/>\n",
              "    <path d=\"M18.56 5.44l.94 2.06.94-2.06 2.06-.94-2.06-.94-.94-2.06-.94 2.06-2.06.94zm-11 1L8.5 8.5l.94-2.06 2.06-.94-2.06-.94L8.5 2.5l-.94 2.06-2.06.94zm10 10l.94 2.06.94-2.06 2.06-.94-2.06-.94-.94-2.06-.94 2.06-2.06.94z\"/><path d=\"M17.41 7.96l-1.37-1.37c-.4-.4-.92-.59-1.43-.59-.52 0-1.04.2-1.43.59L10.3 9.45l-7.72 7.72c-.78.78-.78 2.05 0 2.83L4 21.41c.39.39.9.59 1.41.59.51 0 1.02-.2 1.41-.59l7.78-7.78 2.81-2.81c.8-.78.8-2.07 0-2.86zM5.41 20L4 18.59l7.72-7.72 1.47 1.35L5.41 20z\"/>\n",
              "  </svg>\n",
              "      </button>\n",
              "      \n",
              "  <style>\n",
              "    .colab-df-container {\n",
              "      display:flex;\n",
              "      flex-wrap:wrap;\n",
              "      gap: 12px;\n",
              "    }\n",
              "\n",
              "    .colab-df-convert {\n",
              "      background-color: #E8F0FE;\n",
              "      border: none;\n",
              "      border-radius: 50%;\n",
              "      cursor: pointer;\n",
              "      display: none;\n",
              "      fill: #1967D2;\n",
              "      height: 32px;\n",
              "      padding: 0 0 0 0;\n",
              "      width: 32px;\n",
              "    }\n",
              "\n",
              "    .colab-df-convert:hover {\n",
              "      background-color: #E2EBFA;\n",
              "      box-shadow: 0px 1px 2px rgba(60, 64, 67, 0.3), 0px 1px 3px 1px rgba(60, 64, 67, 0.15);\n",
              "      fill: #174EA6;\n",
              "    }\n",
              "\n",
              "    [theme=dark] .colab-df-convert {\n",
              "      background-color: #3B4455;\n",
              "      fill: #D2E3FC;\n",
              "    }\n",
              "\n",
              "    [theme=dark] .colab-df-convert:hover {\n",
              "      background-color: #434B5C;\n",
              "      box-shadow: 0px 1px 3px 1px rgba(0, 0, 0, 0.15);\n",
              "      filter: drop-shadow(0px 1px 2px rgba(0, 0, 0, 0.3));\n",
              "      fill: #FFFFFF;\n",
              "    }\n",
              "  </style>\n",
              "\n",
              "      <script>\n",
              "        const buttonEl =\n",
              "          document.querySelector('#df-f8e02c9b-5aa6-4d1c-acee-ffdb2cfe13e8 button.colab-df-convert');\n",
              "        buttonEl.style.display =\n",
              "          google.colab.kernel.accessAllowed ? 'block' : 'none';\n",
              "\n",
              "        async function convertToInteractive(key) {\n",
              "          const element = document.querySelector('#df-f8e02c9b-5aa6-4d1c-acee-ffdb2cfe13e8');\n",
              "          const dataTable =\n",
              "            await google.colab.kernel.invokeFunction('convertToInteractive',\n",
              "                                                     [key], {});\n",
              "          if (!dataTable) return;\n",
              "\n",
              "          const docLinkHtml = 'Like what you see? Visit the ' +\n",
              "            '<a target=\"_blank\" href=https://colab.research.google.com/notebooks/data_table.ipynb>data table notebook</a>'\n",
              "            + ' to learn more about interactive tables.';\n",
              "          element.innerHTML = '';\n",
              "          dataTable['output_type'] = 'display_data';\n",
              "          await google.colab.output.renderOutput(dataTable, element);\n",
              "          const docLink = document.createElement('div');\n",
              "          docLink.innerHTML = docLinkHtml;\n",
              "          element.appendChild(docLink);\n",
              "        }\n",
              "      </script>\n",
              "    </div>\n",
              "  </div>\n",
              "  "
            ]
          },
          "metadata": {},
          "execution_count": 32
        }
      ]
    },
    {
      "cell_type": "markdown",
      "source": [
        "**2. t-SNE**"
      ],
      "metadata": {
        "id": "yoPiYf85VfFR"
      }
    },
    {
      "cell_type": "code",
      "source": [
        "tsne = TSNE(n_components=2, verbose=0, perplexity=40, n_iter=300, random_state=8) #2 componentes\n",
        "tsne_results = tsne.fit_transform(x_scaled)\n",
        "df_tsne = pd.DataFrame(data = tsne_results,columns = ['t-sne1', 't-sne2'])\n",
        "\n",
        "df_tsne_with_target = pd.concat([df_tsne, y[['target']]], axis = 1)"
      ],
      "metadata": {
        "colab": {
          "base_uri": "https://localhost:8080/"
        },
        "id": "sZ3jfJBnSsm_",
        "outputId": "0c244cb1-bced-47c1-fa85-5e99c2c68815"
      },
      "execution_count": null,
      "outputs": [
        {
          "output_type": "stream",
          "name": "stderr",
          "text": [
            "/usr/local/lib/python3.7/dist-packages/sklearn/manifold/_t_sne.py:783: FutureWarning: The default initialization in TSNE will change from 'random' to 'pca' in 1.2.\n",
            "  FutureWarning,\n",
            "/usr/local/lib/python3.7/dist-packages/sklearn/manifold/_t_sne.py:793: FutureWarning: The default learning rate in TSNE will change from 200.0 to 'auto' in 1.2.\n",
            "  FutureWarning,\n"
          ]
        }
      ]
    },
    {
      "cell_type": "code",
      "source": [
        "df_tsne_with_target.head()"
      ],
      "metadata": {
        "colab": {
          "base_uri": "https://localhost:8080/",
          "height": 206
        },
        "id": "3zdGhCL4Ssch",
        "outputId": "10f151ee-7ad4-4c04-b25d-c15e8d03f952"
      },
      "execution_count": null,
      "outputs": [
        {
          "output_type": "execute_result",
          "data": {
            "text/plain": [
              "      t-sne1     t-sne2  target\n",
              "0  11.225242 -13.160934       0\n",
              "1   9.435220  -5.310442       0\n",
              "2   9.332875  -9.732940       0\n",
              "3   1.473411 -11.549283       0\n",
              "4  12.104710  -5.149854       0"
            ],
            "text/html": [
              "\n",
              "  <div id=\"df-6b2b1997-a7ed-41aa-8f09-c20d300659b9\">\n",
              "    <div class=\"colab-df-container\">\n",
              "      <div>\n",
              "<style scoped>\n",
              "    .dataframe tbody tr th:only-of-type {\n",
              "        vertical-align: middle;\n",
              "    }\n",
              "\n",
              "    .dataframe tbody tr th {\n",
              "        vertical-align: top;\n",
              "    }\n",
              "\n",
              "    .dataframe thead th {\n",
              "        text-align: right;\n",
              "    }\n",
              "</style>\n",
              "<table border=\"1\" class=\"dataframe\">\n",
              "  <thead>\n",
              "    <tr style=\"text-align: right;\">\n",
              "      <th></th>\n",
              "      <th>t-sne1</th>\n",
              "      <th>t-sne2</th>\n",
              "      <th>target</th>\n",
              "    </tr>\n",
              "  </thead>\n",
              "  <tbody>\n",
              "    <tr>\n",
              "      <th>0</th>\n",
              "      <td>11.225242</td>\n",
              "      <td>-13.160934</td>\n",
              "      <td>0</td>\n",
              "    </tr>\n",
              "    <tr>\n",
              "      <th>1</th>\n",
              "      <td>9.435220</td>\n",
              "      <td>-5.310442</td>\n",
              "      <td>0</td>\n",
              "    </tr>\n",
              "    <tr>\n",
              "      <th>2</th>\n",
              "      <td>9.332875</td>\n",
              "      <td>-9.732940</td>\n",
              "      <td>0</td>\n",
              "    </tr>\n",
              "    <tr>\n",
              "      <th>3</th>\n",
              "      <td>1.473411</td>\n",
              "      <td>-11.549283</td>\n",
              "      <td>0</td>\n",
              "    </tr>\n",
              "    <tr>\n",
              "      <th>4</th>\n",
              "      <td>12.104710</td>\n",
              "      <td>-5.149854</td>\n",
              "      <td>0</td>\n",
              "    </tr>\n",
              "  </tbody>\n",
              "</table>\n",
              "</div>\n",
              "      <button class=\"colab-df-convert\" onclick=\"convertToInteractive('df-6b2b1997-a7ed-41aa-8f09-c20d300659b9')\"\n",
              "              title=\"Convert this dataframe to an interactive table.\"\n",
              "              style=\"display:none;\">\n",
              "        \n",
              "  <svg xmlns=\"http://www.w3.org/2000/svg\" height=\"24px\"viewBox=\"0 0 24 24\"\n",
              "       width=\"24px\">\n",
              "    <path d=\"M0 0h24v24H0V0z\" fill=\"none\"/>\n",
              "    <path d=\"M18.56 5.44l.94 2.06.94-2.06 2.06-.94-2.06-.94-.94-2.06-.94 2.06-2.06.94zm-11 1L8.5 8.5l.94-2.06 2.06-.94-2.06-.94L8.5 2.5l-.94 2.06-2.06.94zm10 10l.94 2.06.94-2.06 2.06-.94-2.06-.94-.94-2.06-.94 2.06-2.06.94z\"/><path d=\"M17.41 7.96l-1.37-1.37c-.4-.4-.92-.59-1.43-.59-.52 0-1.04.2-1.43.59L10.3 9.45l-7.72 7.72c-.78.78-.78 2.05 0 2.83L4 21.41c.39.39.9.59 1.41.59.51 0 1.02-.2 1.41-.59l7.78-7.78 2.81-2.81c.8-.78.8-2.07 0-2.86zM5.41 20L4 18.59l7.72-7.72 1.47 1.35L5.41 20z\"/>\n",
              "  </svg>\n",
              "      </button>\n",
              "      \n",
              "  <style>\n",
              "    .colab-df-container {\n",
              "      display:flex;\n",
              "      flex-wrap:wrap;\n",
              "      gap: 12px;\n",
              "    }\n",
              "\n",
              "    .colab-df-convert {\n",
              "      background-color: #E8F0FE;\n",
              "      border: none;\n",
              "      border-radius: 50%;\n",
              "      cursor: pointer;\n",
              "      display: none;\n",
              "      fill: #1967D2;\n",
              "      height: 32px;\n",
              "      padding: 0 0 0 0;\n",
              "      width: 32px;\n",
              "    }\n",
              "\n",
              "    .colab-df-convert:hover {\n",
              "      background-color: #E2EBFA;\n",
              "      box-shadow: 0px 1px 2px rgba(60, 64, 67, 0.3), 0px 1px 3px 1px rgba(60, 64, 67, 0.15);\n",
              "      fill: #174EA6;\n",
              "    }\n",
              "\n",
              "    [theme=dark] .colab-df-convert {\n",
              "      background-color: #3B4455;\n",
              "      fill: #D2E3FC;\n",
              "    }\n",
              "\n",
              "    [theme=dark] .colab-df-convert:hover {\n",
              "      background-color: #434B5C;\n",
              "      box-shadow: 0px 1px 3px 1px rgba(0, 0, 0, 0.15);\n",
              "      filter: drop-shadow(0px 1px 2px rgba(0, 0, 0, 0.3));\n",
              "      fill: #FFFFFF;\n",
              "    }\n",
              "  </style>\n",
              "\n",
              "      <script>\n",
              "        const buttonEl =\n",
              "          document.querySelector('#df-6b2b1997-a7ed-41aa-8f09-c20d300659b9 button.colab-df-convert');\n",
              "        buttonEl.style.display =\n",
              "          google.colab.kernel.accessAllowed ? 'block' : 'none';\n",
              "\n",
              "        async function convertToInteractive(key) {\n",
              "          const element = document.querySelector('#df-6b2b1997-a7ed-41aa-8f09-c20d300659b9');\n",
              "          const dataTable =\n",
              "            await google.colab.kernel.invokeFunction('convertToInteractive',\n",
              "                                                     [key], {});\n",
              "          if (!dataTable) return;\n",
              "\n",
              "          const docLinkHtml = 'Like what you see? Visit the ' +\n",
              "            '<a target=\"_blank\" href=https://colab.research.google.com/notebooks/data_table.ipynb>data table notebook</a>'\n",
              "            + ' to learn more about interactive tables.';\n",
              "          element.innerHTML = '';\n",
              "          dataTable['output_type'] = 'display_data';\n",
              "          await google.colab.output.renderOutput(dataTable, element);\n",
              "          const docLink = document.createElement('div');\n",
              "          docLink.innerHTML = docLinkHtml;\n",
              "          element.appendChild(docLink);\n",
              "        }\n",
              "      </script>\n",
              "    </div>\n",
              "  </div>\n",
              "  "
            ]
          },
          "metadata": {},
          "execution_count": 35
        }
      ]
    },
    {
      "cell_type": "markdown",
      "metadata": {
        "id": "GwmdeUlouSMj"
      },
      "source": [
        "<div style=\"background-color: #EDF7FF; border-color: #7C9DBF; border-left: 5px solid #7C9DBF; padding: 0.5em;\">\n",
        "<strong>Implementación:</strong> Genera un gráfico (en 2D) con el resultado de cada uno de los métodos de reducción de la dimensión, usando colores diferentes para cada clase de la respuesta, con el objetivo de visualizar si es posible separar eficientemente las clases empleando estos métodos.</div>"
      ]
    },
    {
      "cell_type": "markdown",
      "source": [
        "**1. PCA**"
      ],
      "metadata": {
        "id": "bnyos0mLVs0b"
      }
    },
    {
      "cell_type": "code",
      "execution_count": null,
      "metadata": {
        "id": "0fZUlNinuSMk",
        "colab": {
          "base_uri": "https://localhost:8080/",
          "height": 523
        },
        "outputId": "8f7ee303-d6bb-474f-e669-6724200e1874"
      },
      "outputs": [
        {
          "output_type": "display_data",
          "data": {
            "text/plain": [
              "<Figure size 576x576 with 1 Axes>"
            ],
            "image/png": "[encoded data removed]"
          },
          "metadata": {
            "needs_background": "light"
          }
        }
      ],
      "source": [
        "fig = plt.figure(figsize = (8,8))\n",
        "ax = fig.add_subplot(1,1,1) \n",
        "ax.set_xlabel('Componente principal 1', fontsize = 15)\n",
        "ax.set_ylabel('Componente principal 2', fontsize = 15)\n",
        "ax.set_title('Diagrama de puntos para las componentes principales PCA', fontsize = 20)\n",
        "targets = [0, 1]\n",
        "colors = ['r', 'g']\n",
        "for target, color in zip(targets,colors):\n",
        "    indicesToKeep = y['target'] == target\n",
        "    ax.scatter(df.loc[indicesToKeep, 'principal component 1']\n",
        "               , df.loc[indicesToKeep, 'principal component 2']\n",
        "               , c = color\n",
        "               , s = 50)\n",
        "ax.legend(targets)\n",
        "ax.grid()"
      ]
    },
    {
      "cell_type": "markdown",
      "source": [
        "**2. t-SNE**"
      ],
      "metadata": {
        "id": "N-4Yv7P3VwIi"
      }
    },
    {
      "cell_type": "code",
      "source": [
        "fig = plt.figure(figsize = (8,8))\n",
        "ax = fig.add_subplot(1,1,1) \n",
        "ax.set_xlabel('t-sne1', fontsize = 15)\n",
        "ax.set_ylabel('t-sne2', fontsize = 15)\n",
        "ax.set_title('Diagrama de puntos para las componentes principales de t-SNE', fontsize = 20)\n",
        "targets = [0,1]\n",
        "colors = ['r', 'g']\n",
        "for target, color in zip(targets,colors):    \n",
        "    indicesToKeep =  df_tsne_with_target['target'] == target\n",
        "    ax.scatter(df_tsne_with_target.loc[indicesToKeep, 't-sne1']\n",
        "               , df_tsne_with_target.loc[indicesToKeep, 't-sne2']\n",
        "               , c = color\n",
        "               , s = 50)\n",
        "ax.legend(targets)\n",
        "ax.grid()"
      ],
      "metadata": {
        "colab": {
          "base_uri": "https://localhost:8080/",
          "height": 523
        },
        "id": "b8Lv9vQfVqL7",
        "outputId": "9d729f96-143d-4ddf-c616-7a9333094650"
      },
      "execution_count": null,
      "outputs": [
        {
          "output_type": "display_data",
          "data": {
            "text/plain": [
              "<Figure size 576x576 with 1 Axes>"
            ],
            "image/png": "[encoded data removed]"
          },
          "metadata": {
            "needs_background": "light"
          }
        }
      ]
    },
    {
      "cell_type": "markdown",
      "metadata": {
        "id": "9QiTuMQauSMk"
      },
      "source": [
        "<div style=\"background-color: #EDF7FF; border-color: #7C9DBF; border-left: 5px solid #7C9DBF; padding: 0.5em;\">\n",
        "<strong>Análisis:</strong>\n",
        "<br> - ¿Qué método de reducción de dimensionalidad ha resultado más efectivo para visualizar las dos clases de diagnóstico de forma separada?\n",
        "\n",
        "El método de reducción que ha resultado más efectivo ha sido el PCA. Como se puede observar en la gráfica anterior, el tsne no ha sabido separar tan claramente las dos clases\n",
        "</div>"
      ]
    },
    {
      "cell_type": "markdown",
      "metadata": {
        "id": "FEtxEPcmuSMk"
      },
      "source": [
        "# 4. Aplicación de CART (3 puntos)\n",
        "\n",
        "En este último ejercicio debes de aplicar un método de aprendizaje supervisado: árboles de decisión. Lo utilizarás para predecir el diagnóstico de cáncer de mama (distinción entre tumor benigno o maligno) y evaluar la precisión obtenida con el modelo, usando:\n",
        "\n",
        "- El conjunto de datos original con todos los atributos\n",
        "- El conjunto de datos reducido a sólo 2 atributos con el método PCA"
      ]
    },
    {
      "cell_type": "markdown",
      "metadata": {
        "id": "LdP72iJtuSMl"
      },
      "source": [
        "<div style=\"background-color: #EDF7FF; border-color: #7C9DBF; border-left: 5px solid #7C9DBF; padding: 0.5em;\">\n",
        "<strong>Implementación:</strong> Entrena dos modelos usando árboles de decisión (con una profundidad máxima limitada a 3 niveles para mantener el modelo simple): uno usando el conjunto de datos original y el otro usando el conjunto de datos reducido con PCA.\n",
        "<br>Calcula la precisión de las predicciones obtenidas por cada uno de los modelos (accuracy) así como la matriz de confusión asociada.\n",
        "<hr>\n",
        "Sugerencia: es necesario que generes un conjunto de datos de entrenamiento para calibrar el modelo, y otro conjunto de test para evaluar la bondad de cada uno de los modelos creados. Puedes utilizar los módulos 'train_test_split', 'DecisionTreeClassifier' y las funciones dentro del módulo 'metrics' de sckit-learn.\n",
        "</div>"
      ]
    },
    {
      "cell_type": "code",
      "execution_count": null,
      "metadata": {
        "id": "mzO4yMewuSMl"
      },
      "outputs": [],
      "source": [
        "#ORIGINALES\n",
        "X =data.drop('Diagnosis', axis=1)\n",
        "y= data['Diagnosis']\n",
        "\n",
        "#PCA\n",
        "X_PCA = df.drop('target', axis=1)\n",
        "y_PCA = df['target']"
      ]
    },
    {
      "cell_type": "code",
      "source": [
        "X_train, X_test, y_train, y_test=train_test_split(X, y, test_size=0.2, random_state=8)\n",
        "X_train_PCA, X_test_PCA, y_train_PCA, y_test_PCA=train_test_split(X_PCA, y_PCA, test_size=0.2, random_state=8)"
      ],
      "metadata": {
        "id": "bovmh45wXXDy"
      },
      "execution_count": null,
      "outputs": []
    },
    {
      "cell_type": "markdown",
      "source": [
        "**1. Datos originales**"
      ],
      "metadata": {
        "id": "ypqyHTboXAx7"
      }
    },
    {
      "cell_type": "code",
      "source": [
        "est = DecisionTreeClassifier(max_depth=2, random_state=8)\n",
        "est.fit(X_train, y_train)\n",
        "y_pred = est.predict(X_test)"
      ],
      "metadata": {
        "id": "UKnwldTdYeb3"
      },
      "execution_count": null,
      "outputs": []
    },
    {
      "cell_type": "markdown",
      "source": [
        "**2. Datos PCA**"
      ],
      "metadata": {
        "id": "Q4Xhz_jUb-6d"
      }
    },
    {
      "cell_type": "code",
      "source": [
        "est2 = DecisionTreeClassifier(max_depth=2, random_state=8)\n",
        "est.fit(X_train_PCA, y_train_PCA)\n",
        "y_pred_PCA = est.predict(X_test_PCA)"
      ],
      "metadata": {
        "id": "RodUBtTwdyUj"
      },
      "execution_count": null,
      "outputs": []
    },
    {
      "cell_type": "markdown",
      "source": [
        "Resultados y matriz de confusión:"
      ],
      "metadata": {
        "id": "Oyt2EWzucChF"
      }
    },
    {
      "cell_type": "markdown",
      "source": [
        "Vamos a definir una función para evaluar los modelos:"
      ],
      "metadata": {
        "id": "4y6i2RvtcF1G"
      }
    },
    {
      "cell_type": "code",
      "source": [
        "def resultados(y_test, y_pred):\n",
        "  \n",
        "  accuracy=metrics.accuracy_score(y_test,y_pred)\n",
        "  f1= metrics.f1_score(y_test,y_pred)\n",
        "  precisicion= metrics.precision_score(y_test,y_pred)\n",
        "  recall= metrics.recall_score(y_test,y_pred)\n",
        "  auc=metrics.roc_auc_score(y_test,y_pred)\n",
        "  res= {'Accuracy': accuracy, 'Precision': precisicion, \"Recall\": recall, \"F1\": f1, \"roc auc scores\": auc}\n",
        "\n",
        "  return res"
      ],
      "metadata": {
        "id": "3obP5xbxZcEN"
      },
      "execution_count": null,
      "outputs": []
    },
    {
      "cell_type": "code",
      "source": [
        "res= resultados(y_test, y_pred)\n",
        "res2 = resultados(y_test_PCA, y_pred_PCA)\n",
        "comparacion = pd.DataFrame(res, index=['Datos originales'])\n",
        "comparacion.loc['Datos reducidos a 2 Dimensiones'] = res2\n",
        "comparacion"
      ],
      "metadata": {
        "colab": {
          "base_uri": "https://localhost:8080/",
          "height": 112
        },
        "id": "0xD5D9cZaxPk",
        "outputId": "4ed9dd84-1d1a-4365-f5c8-abbce5ca6e71"
      },
      "execution_count": null,
      "outputs": [
        {
          "output_type": "execute_result",
          "data": {
            "text/plain": [
              "                                 Accuracy  Precision    Recall        F1  \\\n",
              "Datos originales                 0.894737       0.90  0.926471  0.913043   \n",
              "Datos reducidos a 2 Dimensiones  0.903509       0.88  0.970588  0.923077   \n",
              "\n",
              "                                 roc auc scores  \n",
              "Datos originales                       0.887148  \n",
              "Datos reducidos a 2 Dimensiones        0.887468  "
            ],
            "text/html": [
              "\n",
              "  <div id=\"df-a4490901-881e-4a69-97fc-72ff2eada597\">\n",
              "    <div class=\"colab-df-container\">\n",
              "      <div>\n",
              "<style scoped>\n",
              "    .dataframe tbody tr th:only-of-type {\n",
              "        vertical-align: middle;\n",
              "    }\n",
              "\n",
              "    .dataframe tbody tr th {\n",
              "        vertical-align: top;\n",
              "    }\n",
              "\n",
              "    .dataframe thead th {\n",
              "        text-align: right;\n",
              "    }\n",
              "</style>\n",
              "<table border=\"1\" class=\"dataframe\">\n",
              "  <thead>\n",
              "    <tr style=\"text-align: right;\">\n",
              "      <th></th>\n",
              "      <th>Accuracy</th>\n",
              "      <th>Precision</th>\n",
              "      <th>Recall</th>\n",
              "      <th>F1</th>\n",
              "      <th>roc auc scores</th>\n",
              "    </tr>\n",
              "  </thead>\n",
              "  <tbody>\n",
              "    <tr>\n",
              "      <th>Datos originales</th>\n",
              "      <td>0.894737</td>\n",
              "      <td>0.90</td>\n",
              "      <td>0.926471</td>\n",
              "      <td>0.913043</td>\n",
              "      <td>0.887148</td>\n",
              "    </tr>\n",
              "    <tr>\n",
              "      <th>Datos reducidos a 2 Dimensiones</th>\n",
              "      <td>0.903509</td>\n",
              "      <td>0.88</td>\n",
              "      <td>0.970588</td>\n",
              "      <td>0.923077</td>\n",
              "      <td>0.887468</td>\n",
              "    </tr>\n",
              "  </tbody>\n",
              "</table>\n",
              "</div>\n",
              "      <button class=\"colab-df-convert\" onclick=\"convertToInteractive('df-a4490901-881e-4a69-97fc-72ff2eada597')\"\n",
              "              title=\"Convert this dataframe to an interactive table.\"\n",
              "              style=\"display:none;\">\n",
              "        \n",
              "  <svg xmlns=\"http://www.w3.org/2000/svg\" height=\"24px\"viewBox=\"0 0 24 24\"\n",
              "       width=\"24px\">\n",
              "    <path d=\"M0 0h24v24H0V0z\" fill=\"none\"/>\n",
              "    <path d=\"M18.56 5.44l.94 2.06.94-2.06 2.06-.94-2.06-.94-.94-2.06-.94 2.06-2.06.94zm-11 1L8.5 8.5l.94-2.06 2.06-.94-2.06-.94L8.5 2.5l-.94 2.06-2.06.94zm10 10l.94 2.06.94-2.06 2.06-.94-2.06-.94-.94-2.06-.94 2.06-2.06.94z\"/><path d=\"M17.41 7.96l-1.37-1.37c-.4-.4-.92-.59-1.43-.59-.52 0-1.04.2-1.43.59L10.3 9.45l-7.72 7.72c-.78.78-.78 2.05 0 2.83L4 21.41c.39.39.9.59 1.41.59.51 0 1.02-.2 1.41-.59l7.78-7.78 2.81-2.81c.8-.78.8-2.07 0-2.86zM5.41 20L4 18.59l7.72-7.72 1.47 1.35L5.41 20z\"/>\n",
              "  </svg>\n",
              "      </button>\n",
              "      \n",
              "  <style>\n",
              "    .colab-df-container {\n",
              "      display:flex;\n",
              "      flex-wrap:wrap;\n",
              "      gap: 12px;\n",
              "    }\n",
              "\n",
              "    .colab-df-convert {\n",
              "      background-color: #E8F0FE;\n",
              "      border: none;\n",
              "      border-radius: 50%;\n",
              "      cursor: pointer;\n",
              "      display: none;\n",
              "      fill: #1967D2;\n",
              "      height: 32px;\n",
              "      padding: 0 0 0 0;\n",
              "      width: 32px;\n",
              "    }\n",
              "\n",
              "    .colab-df-convert:hover {\n",
              "      background-color: #E2EBFA;\n",
              "      box-shadow: 0px 1px 2px rgba(60, 64, 67, 0.3), 0px 1px 3px 1px rgba(60, 64, 67, 0.15);\n",
              "      fill: #174EA6;\n",
              "    }\n",
              "\n",
              "    [theme=dark] .colab-df-convert {\n",
              "      background-color: #3B4455;\n",
              "      fill: #D2E3FC;\n",
              "    }\n",
              "\n",
              "    [theme=dark] .colab-df-convert:hover {\n",
              "      background-color: #434B5C;\n",
              "      box-shadow: 0px 1px 3px 1px rgba(0, 0, 0, 0.15);\n",
              "      filter: drop-shadow(0px 1px 2px rgba(0, 0, 0, 0.3));\n",
              "      fill: #FFFFFF;\n",
              "    }\n",
              "  </style>\n",
              "\n",
              "      <script>\n",
              "        const buttonEl =\n",
              "          document.querySelector('#df-a4490901-881e-4a69-97fc-72ff2eada597 button.colab-df-convert');\n",
              "        buttonEl.style.display =\n",
              "          google.colab.kernel.accessAllowed ? 'block' : 'none';\n",
              "\n",
              "        async function convertToInteractive(key) {\n",
              "          const element = document.querySelector('#df-a4490901-881e-4a69-97fc-72ff2eada597');\n",
              "          const dataTable =\n",
              "            await google.colab.kernel.invokeFunction('convertToInteractive',\n",
              "                                                     [key], {});\n",
              "          if (!dataTable) return;\n",
              "\n",
              "          const docLinkHtml = 'Like what you see? Visit the ' +\n",
              "            '<a target=\"_blank\" href=https://colab.research.google.com/notebooks/data_table.ipynb>data table notebook</a>'\n",
              "            + ' to learn more about interactive tables.';\n",
              "          element.innerHTML = '';\n",
              "          dataTable['output_type'] = 'display_data';\n",
              "          await google.colab.output.renderOutput(dataTable, element);\n",
              "          const docLink = document.createElement('div');\n",
              "          docLink.innerHTML = docLinkHtml;\n",
              "          element.appendChild(docLink);\n",
              "        }\n",
              "      </script>\n",
              "    </div>\n",
              "  </div>\n",
              "  "
            ]
          },
          "metadata": {},
          "execution_count": 62
        }
      ]
    },
    {
      "cell_type": "code",
      "source": [
        "matrix1= confusion_matrix(y_test, y_pred)\n",
        "sns.heatmap(matrix1, annot=True, fmt='d', cmap='Blues')\n",
        "plt.title('Matriz de confusión para datos originales')"
      ],
      "metadata": {
        "colab": {
          "base_uri": "https://localhost:8080/",
          "height": 298
        },
        "id": "eqD1tIcBctpW",
        "outputId": "0ac60d7b-e9fb-4edd-8bc3-c63224dfcf6b"
      },
      "execution_count": null,
      "outputs": [
        {
          "output_type": "execute_result",
          "data": {
            "text/plain": [
              "Text(0.5, 1.0, 'Matriz de confusión para datos originales')"
            ]
          },
          "metadata": {},
          "execution_count": 65
        },
        {
          "output_type": "display_data",
          "data": {
            "text/plain": [
              "<Figure size 432x288 with 2 Axes>"
            ],
            "image/png": "[encoded data removed]"
          },
          "metadata": {
            "needs_background": "light"
          }
        }
      ]
    },
    {
      "cell_type": "code",
      "source": [
        "matrix2= confusion_matrix(y_test_PCA, y_pred_PCA)\n",
        "sns.heatmap(matrix2, annot=True, fmt='d', cmap='Blues')\n",
        "plt.title('Matriz de confusión para datos reducidos PCA')"
      ],
      "metadata": {
        "colab": {
          "base_uri": "https://localhost:8080/",
          "height": 298
        },
        "id": "6LGPaM0LdDJw",
        "outputId": "cb39eb48-8a92-4eb7-cf8f-5f0b40268960"
      },
      "execution_count": null,
      "outputs": [
        {
          "output_type": "execute_result",
          "data": {
            "text/plain": [
              "Text(0.5, 1.0, 'Matriz de confusión para datos reducidos PCA')"
            ]
          },
          "metadata": {},
          "execution_count": 67
        },
        {
          "output_type": "display_data",
          "data": {
            "text/plain": [
              "<Figure size 432x288 with 2 Axes>"
            ],
            "image/png": "[encoded data removed]"
          },
          "metadata": {
            "needs_background": "light"
          }
        }
      ]
    },
    {
      "cell_type": "markdown",
      "metadata": {
        "id": "Grz2kP1FuSMl"
      },
      "source": [
        "<div style=\"background-color: #EDF7FF; border-color: #7C9DBF; border-left: 5px solid #7C9DBF; padding: 0.5em;\">\n",
        "<strong>Análisis:</strong>\n",
        "<br> - ¿Con qué tipo de datos (originales o reducidos) has obtenido una precisión (accuracy) mayor?\n",
        "Hemos obtenido mejor precisión con los datos reducidos.\n",
        "\n",
        "<br> - Si el usuario del modelo de predicción, un hospital por ejemplo, quisese usar el modelo con el menor número de tumores malignos erroneamente clasificados como benignos, ¿cuál de los dos modelos tendría que usar? ¿Porqué?\n",
        "Tendríamos que utilizar el modelo entrenado con los datos reducidos ya que le número de falsos negativos en ese modelo (2) es menor que el entrenado con los datos originales (5).\n",
        "\n",
        "<br> - ¿Y si el hospital quisese usar el modelo con el menor número de tumores benignos erroneamente clasificados como malignos, cuál de los dos modelos usaría? ¿Porqué? En este caso debería utilizar el modelo entrenado con los datos originales ya que los falsos positivos (7) son menores que el entrenado con los reducidos (9).\n",
        "</div>"
      ]
    },
    {
      "cell_type": "markdown",
      "source": [
        "![imagen.png](data:image/png;base64,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)"
      ],
      "metadata": {
        "id": "01cGEyhIfjg9"
      }
    }
  ],
  "metadata": {
    "colab": {
      "collapsed_sections": [],
      "name": "TrabajoFinal_Modulo5_Enunciado-checkpoint.ipynb",
      "provenance": []
    },
    "kernelspec": {
      "display_name": "Python 3",
      "language": "python",
      "name": "python3"
    },
    "language_info": {
      "codemirror_mode": {
        "name": "ipython",
        "version": 3
      },
      "file_extension": ".py",
      "mimetype": "text/x-python",
      "name": "python",
      "nbconvert_exporter": "python",
      "pygments_lexer": "ipython3",
      "version": "3.8.5"
    },
    "toc": {
      "base_numbering": 1,
      "nav_menu": {},
      "number_sections": true,
      "sideBar": true,
      "skip_h1_title": false,
      "title_cell": "Table of Contents",
      "title_sidebar": "Contents",
      "toc_cell": false,
      "toc_position": {},
      "toc_section_display": true,
      "toc_window_display": false
    }
  },
  "nbformat": 4,
  "nbformat_minor": 0
}